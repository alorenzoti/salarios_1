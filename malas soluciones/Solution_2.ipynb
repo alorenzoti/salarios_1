{
 "cells": [
  {
   "cell_type": "code",
   "execution_count": 45,
   "id": "f2849ba5",
   "metadata": {},
   "outputs": [],
   "source": [
    "import numpy as np\n",
    "import pandas as pd\n",
    "import seaborn as sns\n",
    "import pylab as plt\n"
   ]
  },
  {
   "cell_type": "code",
   "execution_count": 46,
   "id": "dfede64a",
   "metadata": {},
   "outputs": [],
   "source": [
    "salaries = pd.read_csv('data/salaries_data.csv')"
   ]
  },
  {
   "cell_type": "code",
   "execution_count": 47,
   "id": "1c5104eb",
   "metadata": {},
   "outputs": [
    {
     "data": {
      "text/html": [
       "<div>\n",
       "<style scoped>\n",
       "    .dataframe tbody tr th:only-of-type {\n",
       "        vertical-align: middle;\n",
       "    }\n",
       "\n",
       "    .dataframe tbody tr th {\n",
       "        vertical-align: top;\n",
       "    }\n",
       "\n",
       "    .dataframe thead th {\n",
       "        text-align: right;\n",
       "    }\n",
       "</style>\n",
       "<table border=\"1\" class=\"dataframe\">\n",
       "  <thead>\n",
       "    <tr style=\"text-align: right;\">\n",
       "      <th></th>\n",
       "      <th>work_year</th>\n",
       "      <th>experience_level</th>\n",
       "      <th>employment_type</th>\n",
       "      <th>job_title</th>\n",
       "      <th>salary</th>\n",
       "      <th>salary_currency</th>\n",
       "      <th>salary_in_usd</th>\n",
       "      <th>employee_residence</th>\n",
       "      <th>remote_ratio</th>\n",
       "      <th>company_location</th>\n",
       "      <th>company_size</th>\n",
       "    </tr>\n",
       "  </thead>\n",
       "  <tbody>\n",
       "    <tr>\n",
       "      <th>0</th>\n",
       "      <td>2022</td>\n",
       "      <td>SE</td>\n",
       "      <td>FT</td>\n",
       "      <td>Data Engineer</td>\n",
       "      <td>140250</td>\n",
       "      <td>USD</td>\n",
       "      <td>140250</td>\n",
       "      <td>US</td>\n",
       "      <td>100</td>\n",
       "      <td>US</td>\n",
       "      <td>M</td>\n",
       "    </tr>\n",
       "    <tr>\n",
       "      <th>1</th>\n",
       "      <td>2022</td>\n",
       "      <td>SE</td>\n",
       "      <td>FT</td>\n",
       "      <td>Data Engineer</td>\n",
       "      <td>135000</td>\n",
       "      <td>USD</td>\n",
       "      <td>135000</td>\n",
       "      <td>US</td>\n",
       "      <td>100</td>\n",
       "      <td>US</td>\n",
       "      <td>M</td>\n",
       "    </tr>\n",
       "    <tr>\n",
       "      <th>2</th>\n",
       "      <td>2021</td>\n",
       "      <td>MI</td>\n",
       "      <td>FT</td>\n",
       "      <td>BI Data Analyst</td>\n",
       "      <td>100000</td>\n",
       "      <td>USD</td>\n",
       "      <td>100000</td>\n",
       "      <td>US</td>\n",
       "      <td>100</td>\n",
       "      <td>US</td>\n",
       "      <td>M</td>\n",
       "    </tr>\n",
       "    <tr>\n",
       "      <th>3</th>\n",
       "      <td>2021</td>\n",
       "      <td>MI</td>\n",
       "      <td>CT</td>\n",
       "      <td>ML Engineer</td>\n",
       "      <td>270000</td>\n",
       "      <td>USD</td>\n",
       "      <td>270000</td>\n",
       "      <td>US</td>\n",
       "      <td>100</td>\n",
       "      <td>US</td>\n",
       "      <td>L</td>\n",
       "    </tr>\n",
       "    <tr>\n",
       "      <th>4</th>\n",
       "      <td>2021</td>\n",
       "      <td>MI</td>\n",
       "      <td>FT</td>\n",
       "      <td>Data Engineer</td>\n",
       "      <td>22000</td>\n",
       "      <td>EUR</td>\n",
       "      <td>26005</td>\n",
       "      <td>RO</td>\n",
       "      <td>0</td>\n",
       "      <td>US</td>\n",
       "      <td>L</td>\n",
       "    </tr>\n",
       "  </tbody>\n",
       "</table>\n",
       "</div>"
      ],
      "text/plain": [
       "   work_year experience_level employment_type        job_title  salary  \\\n",
       "0       2022               SE              FT    Data Engineer  140250   \n",
       "1       2022               SE              FT    Data Engineer  135000   \n",
       "2       2021               MI              FT  BI Data Analyst  100000   \n",
       "3       2021               MI              CT      ML Engineer  270000   \n",
       "4       2021               MI              FT    Data Engineer   22000   \n",
       "\n",
       "  salary_currency  salary_in_usd employee_residence  remote_ratio  \\\n",
       "0             USD         140250                 US           100   \n",
       "1             USD         135000                 US           100   \n",
       "2             USD         100000                 US           100   \n",
       "3             USD         270000                 US           100   \n",
       "4             EUR          26005                 RO             0   \n",
       "\n",
       "  company_location company_size  \n",
       "0               US            M  \n",
       "1               US            M  \n",
       "2               US            M  \n",
       "3               US            L  \n",
       "4               US            L  "
      ]
     },
     "execution_count": 47,
     "metadata": {},
     "output_type": "execute_result"
    }
   ],
   "source": [
    "salaries.head()"
   ]
  },
  {
   "cell_type": "code",
   "execution_count": 48,
   "id": "c356dd62",
   "metadata": {},
   "outputs": [],
   "source": [
    "test = pd.read_csv('data/testeo.csv')"
   ]
  },
  {
   "cell_type": "code",
   "execution_count": 49,
   "id": "f1a61815",
   "metadata": {},
   "outputs": [
    {
     "data": {
      "text/html": [
       "<div>\n",
       "<style scoped>\n",
       "    .dataframe tbody tr th:only-of-type {\n",
       "        vertical-align: middle;\n",
       "    }\n",
       "\n",
       "    .dataframe tbody tr th {\n",
       "        vertical-align: top;\n",
       "    }\n",
       "\n",
       "    .dataframe thead th {\n",
       "        text-align: right;\n",
       "    }\n",
       "</style>\n",
       "<table border=\"1\" class=\"dataframe\">\n",
       "  <thead>\n",
       "    <tr style=\"text-align: right;\">\n",
       "      <th></th>\n",
       "      <th>work_year</th>\n",
       "      <th>experience_level</th>\n",
       "      <th>employment_type</th>\n",
       "      <th>job_title</th>\n",
       "      <th>employee_residence</th>\n",
       "      <th>remote_ratio</th>\n",
       "      <th>company_location</th>\n",
       "      <th>company_size</th>\n",
       "    </tr>\n",
       "  </thead>\n",
       "  <tbody>\n",
       "    <tr>\n",
       "      <th>0</th>\n",
       "      <td>2020</td>\n",
       "      <td>SE</td>\n",
       "      <td>FT</td>\n",
       "      <td>Machine Learning Scientist</td>\n",
       "      <td>JP</td>\n",
       "      <td>0</td>\n",
       "      <td>JP</td>\n",
       "      <td>S</td>\n",
       "    </tr>\n",
       "    <tr>\n",
       "      <th>1</th>\n",
       "      <td>2020</td>\n",
       "      <td>MI</td>\n",
       "      <td>FT</td>\n",
       "      <td>Lead Data Analyst</td>\n",
       "      <td>US</td>\n",
       "      <td>100</td>\n",
       "      <td>US</td>\n",
       "      <td>L</td>\n",
       "    </tr>\n",
       "    <tr>\n",
       "      <th>2</th>\n",
       "      <td>2020</td>\n",
       "      <td>MI</td>\n",
       "      <td>FT</td>\n",
       "      <td>Data Analyst</td>\n",
       "      <td>US</td>\n",
       "      <td>100</td>\n",
       "      <td>US</td>\n",
       "      <td>L</td>\n",
       "    </tr>\n",
       "    <tr>\n",
       "      <th>3</th>\n",
       "      <td>2020</td>\n",
       "      <td>MI</td>\n",
       "      <td>FT</td>\n",
       "      <td>Machine Learning Engineer</td>\n",
       "      <td>CN</td>\n",
       "      <td>0</td>\n",
       "      <td>CN</td>\n",
       "      <td>M</td>\n",
       "    </tr>\n",
       "    <tr>\n",
       "      <th>4</th>\n",
       "      <td>2020</td>\n",
       "      <td>MI</td>\n",
       "      <td>FT</td>\n",
       "      <td>Product Data Analyst</td>\n",
       "      <td>IN</td>\n",
       "      <td>100</td>\n",
       "      <td>IN</td>\n",
       "      <td>L</td>\n",
       "    </tr>\n",
       "  </tbody>\n",
       "</table>\n",
       "</div>"
      ],
      "text/plain": [
       "   work_year experience_level employment_type                   job_title  \\\n",
       "0       2020               SE              FT  Machine Learning Scientist   \n",
       "1       2020               MI              FT           Lead Data Analyst   \n",
       "2       2020               MI              FT                Data Analyst   \n",
       "3       2020               MI              FT   Machine Learning Engineer   \n",
       "4       2020               MI              FT        Product Data Analyst   \n",
       "\n",
       "  employee_residence  remote_ratio company_location company_size  \n",
       "0                 JP             0               JP            S  \n",
       "1                 US           100               US            L  \n",
       "2                 US           100               US            L  \n",
       "3                 CN             0               CN            M  \n",
       "4                 IN           100               IN            L  "
      ]
     },
     "execution_count": 49,
     "metadata": {},
     "output_type": "execute_result"
    }
   ],
   "source": [
    "test.head()"
   ]
  },
  {
   "cell_type": "code",
   "execution_count": 50,
   "id": "073a272b",
   "metadata": {},
   "outputs": [],
   "source": [
    "salaries.drop(columns=salaries[['salary', 'salary_currency']], axis=1, inplace=True)"
   ]
  },
  {
   "cell_type": "code",
   "execution_count": 51,
   "id": "fe2d9bf1",
   "metadata": {},
   "outputs": [
    {
     "data": {
      "text/plain": [
       "Index(['work_year', 'experience_level', 'employment_type', 'job_title',\n",
       "       'salary_in_usd', 'employee_residence', 'remote_ratio',\n",
       "       'company_location', 'company_size'],\n",
       "      dtype='object')"
      ]
     },
     "execution_count": 51,
     "metadata": {},
     "output_type": "execute_result"
    }
   ],
   "source": [
    "salaries.columns"
   ]
  },
  {
   "cell_type": "code",
   "execution_count": 52,
   "id": "40c51fd8",
   "metadata": {},
   "outputs": [
    {
     "data": {
      "text/plain": [
       "Index(['work_year', 'experience_level', 'employment_type', 'job_title',\n",
       "       'employee_residence', 'remote_ratio', 'company_location',\n",
       "       'company_size'],\n",
       "      dtype='object')"
      ]
     },
     "execution_count": 52,
     "metadata": {},
     "output_type": "execute_result"
    }
   ],
   "source": [
    "test.columns"
   ]
  },
  {
   "cell_type": "code",
   "execution_count": 53,
   "id": "f0ac7db5",
   "metadata": {},
   "outputs": [
    {
     "data": {
      "image/png": "[encoded data removed]",
      "text/plain": [
       "<Figure size 1500x1000 with 2 Axes>"
      ]
     },
     "metadata": {},
     "output_type": "display_data"
    }
   ],
   "source": [
    "#cols salaries\n",
    "plt.figure(figsize=(15, 10))\n",
    "\n",
    "sns.set(style='white')\n",
    "\n",
    "mask=np.triu(np.ones_like(salaries.corr(), dtype=bool))\n",
    "\n",
    "cmap=sns.diverging_palette(0, 10, as_cmap=True)\n",
    "\n",
    "\n",
    "sns.heatmap(salaries.corr(),\n",
    "           mask=mask,\n",
    "          cmap=cmap,\n",
    "          center=0,\n",
    "          square=True,\n",
    "          annot=True,\n",
    "          linewidths=0.5,\n",
    "          cbar_kws={'shrink': 0.5});"
   ]
  },
  {
   "cell_type": "code",
   "execution_count": 54,
   "id": "77c2f9ed",
   "metadata": {},
   "outputs": [],
   "source": [
    "train2 = salaries.copy(deep=True)"
   ]
  },
  {
   "cell_type": "code",
   "execution_count": 55,
   "id": "77618e0f",
   "metadata": {},
   "outputs": [],
   "source": [
    "train2.drop(columns=salaries[['work_year','remote_ratio','company_location']], axis=1, inplace=True)"
   ]
  },
  {
   "cell_type": "code",
   "execution_count": 56,
   "id": "40bb15c3",
   "metadata": {},
   "outputs": [
    {
     "data": {
      "text/plain": [
       "Index(['experience_level', 'employment_type', 'job_title', 'salary_in_usd',\n",
       "       'employee_residence', 'company_size'],\n",
       "      dtype='object')"
      ]
     },
     "execution_count": 56,
     "metadata": {},
     "output_type": "execute_result"
    }
   ],
   "source": [
    "train2.columns"
   ]
  },
  {
   "cell_type": "code",
   "execution_count": null,
   "id": "53923d6d",
   "metadata": {},
   "outputs": [],
   "source": []
  },
  {
   "cell_type": "code",
   "execution_count": 57,
   "id": "6c3586ea",
   "metadata": {},
   "outputs": [],
   "source": [
    "test2 = test.copy(deep=True)"
   ]
  },
  {
   "cell_type": "code",
   "execution_count": 58,
   "id": "b781023f",
   "metadata": {},
   "outputs": [],
   "source": [
    "test2.drop(columns=test2[['work_year','remote_ratio','company_location']], axis=1, inplace=True)"
   ]
  },
  {
   "cell_type": "code",
   "execution_count": 59,
   "id": "b52c2e43",
   "metadata": {},
   "outputs": [
    {
     "data": {
      "text/plain": [
       "Index(['experience_level', 'employment_type', 'job_title',\n",
       "       'employee_residence', 'company_size'],\n",
       "      dtype='object')"
      ]
     },
     "execution_count": 59,
     "metadata": {},
     "output_type": "execute_result"
    }
   ],
   "source": [
    "test2.columns"
   ]
  },
  {
   "cell_type": "code",
   "execution_count": 60,
   "id": "65371399",
   "metadata": {},
   "outputs": [],
   "source": [
    "#%pip install mlflow"
   ]
  },
  {
   "cell_type": "code",
   "execution_count": 62,
   "id": "4b730aef",
   "metadata": {},
   "outputs": [
    {
     "name": "stderr",
     "output_type": "stream",
     "text": [
      "\"mlflow\" no se reconoce como un comando interno o externo,\n",
      "programa o archivo por lotes ejecutable.\n"
     ]
    }
   ],
   "source": [
    "!mlflow ui"
   ]
  },
  {
   "cell_type": "code",
   "execution_count": 65,
   "id": "68aa3b64",
   "metadata": {},
   "outputs": [
    {
     "data": {
      "text/html": [
       "<style type=\"text/css\">\n",
       "#T_20638_row8_col1 {\n",
       "  background-color: lightgreen;\n",
       "}\n",
       "</style>\n",
       "<table id=\"T_20638\">\n",
       "  <thead>\n",
       "    <tr>\n",
       "      <th class=\"blank level0\" >&nbsp;</th>\n",
       "      <th id=\"T_20638_level0_col0\" class=\"col_heading level0 col0\" >Description</th>\n",
       "      <th id=\"T_20638_level0_col1\" class=\"col_heading level0 col1\" >Value</th>\n",
       "    </tr>\n",
       "  </thead>\n",
       "  <tbody>\n",
       "    <tr>\n",
       "      <th id=\"T_20638_level0_row0\" class=\"row_heading level0 row0\" >0</th>\n",
       "      <td id=\"T_20638_row0_col0\" class=\"data row0 col0\" >Session id</td>\n",
       "      <td id=\"T_20638_row0_col1\" class=\"data row0 col1\" >4126</td>\n",
       "    </tr>\n",
       "    <tr>\n",
       "      <th id=\"T_20638_level0_row1\" class=\"row_heading level0 row1\" >1</th>\n",
       "      <td id=\"T_20638_row1_col0\" class=\"data row1 col0\" >Target</td>\n",
       "      <td id=\"T_20638_row1_col1\" class=\"data row1 col1\" >salary_in_usd</td>\n",
       "    </tr>\n",
       "    <tr>\n",
       "      <th id=\"T_20638_level0_row2\" class=\"row_heading level0 row2\" >2</th>\n",
       "      <td id=\"T_20638_row2_col0\" class=\"data row2 col0\" >Target type</td>\n",
       "      <td id=\"T_20638_row2_col1\" class=\"data row2 col1\" >Regression</td>\n",
       "    </tr>\n",
       "    <tr>\n",
       "      <th id=\"T_20638_level0_row3\" class=\"row_heading level0 row3\" >3</th>\n",
       "      <td id=\"T_20638_row3_col0\" class=\"data row3 col0\" >Original data shape</td>\n",
       "      <td id=\"T_20638_row3_col1\" class=\"data row3 col1\" >(500, 6)</td>\n",
       "    </tr>\n",
       "    <tr>\n",
       "      <th id=\"T_20638_level0_row4\" class=\"row_heading level0 row4\" >4</th>\n",
       "      <td id=\"T_20638_row4_col0\" class=\"data row4 col0\" >Transformed data shape</td>\n",
       "      <td id=\"T_20638_row4_col1\" class=\"data row4 col1\" >(500, 14)</td>\n",
       "    </tr>\n",
       "    <tr>\n",
       "      <th id=\"T_20638_level0_row5\" class=\"row_heading level0 row5\" >5</th>\n",
       "      <td id=\"T_20638_row5_col0\" class=\"data row5 col0\" >Transformed train set shape</td>\n",
       "      <td id=\"T_20638_row5_col1\" class=\"data row5 col1\" >(350, 14)</td>\n",
       "    </tr>\n",
       "    <tr>\n",
       "      <th id=\"T_20638_level0_row6\" class=\"row_heading level0 row6\" >6</th>\n",
       "      <td id=\"T_20638_row6_col0\" class=\"data row6 col0\" >Transformed test set shape</td>\n",
       "      <td id=\"T_20638_row6_col1\" class=\"data row6 col1\" >(150, 14)</td>\n",
       "    </tr>\n",
       "    <tr>\n",
       "      <th id=\"T_20638_level0_row7\" class=\"row_heading level0 row7\" >7</th>\n",
       "      <td id=\"T_20638_row7_col0\" class=\"data row7 col0\" >Categorical features</td>\n",
       "      <td id=\"T_20638_row7_col1\" class=\"data row7 col1\" >5</td>\n",
       "    </tr>\n",
       "    <tr>\n",
       "      <th id=\"T_20638_level0_row8\" class=\"row_heading level0 row8\" >8</th>\n",
       "      <td id=\"T_20638_row8_col0\" class=\"data row8 col0\" >Preprocess</td>\n",
       "      <td id=\"T_20638_row8_col1\" class=\"data row8 col1\" >True</td>\n",
       "    </tr>\n",
       "    <tr>\n",
       "      <th id=\"T_20638_level0_row9\" class=\"row_heading level0 row9\" >9</th>\n",
       "      <td id=\"T_20638_row9_col0\" class=\"data row9 col0\" >Imputation type</td>\n",
       "      <td id=\"T_20638_row9_col1\" class=\"data row9 col1\" >simple</td>\n",
       "    </tr>\n",
       "    <tr>\n",
       "      <th id=\"T_20638_level0_row10\" class=\"row_heading level0 row10\" >10</th>\n",
       "      <td id=\"T_20638_row10_col0\" class=\"data row10 col0\" >Numeric imputation</td>\n",
       "      <td id=\"T_20638_row10_col1\" class=\"data row10 col1\" >mean</td>\n",
       "    </tr>\n",
       "    <tr>\n",
       "      <th id=\"T_20638_level0_row11\" class=\"row_heading level0 row11\" >11</th>\n",
       "      <td id=\"T_20638_row11_col0\" class=\"data row11 col0\" >Categorical imputation</td>\n",
       "      <td id=\"T_20638_row11_col1\" class=\"data row11 col1\" >mode</td>\n",
       "    </tr>\n",
       "    <tr>\n",
       "      <th id=\"T_20638_level0_row12\" class=\"row_heading level0 row12\" >12</th>\n",
       "      <td id=\"T_20638_row12_col0\" class=\"data row12 col0\" >Maximum one-hot encoding</td>\n",
       "      <td id=\"T_20638_row12_col1\" class=\"data row12 col1\" >25</td>\n",
       "    </tr>\n",
       "    <tr>\n",
       "      <th id=\"T_20638_level0_row13\" class=\"row_heading level0 row13\" >13</th>\n",
       "      <td id=\"T_20638_row13_col0\" class=\"data row13 col0\" >Encoding method</td>\n",
       "      <td id=\"T_20638_row13_col1\" class=\"data row13 col1\" >None</td>\n",
       "    </tr>\n",
       "    <tr>\n",
       "      <th id=\"T_20638_level0_row14\" class=\"row_heading level0 row14\" >14</th>\n",
       "      <td id=\"T_20638_row14_col0\" class=\"data row14 col0\" >Fold Generator</td>\n",
       "      <td id=\"T_20638_row14_col1\" class=\"data row14 col1\" >KFold</td>\n",
       "    </tr>\n",
       "    <tr>\n",
       "      <th id=\"T_20638_level0_row15\" class=\"row_heading level0 row15\" >15</th>\n",
       "      <td id=\"T_20638_row15_col0\" class=\"data row15 col0\" >Fold Number</td>\n",
       "      <td id=\"T_20638_row15_col1\" class=\"data row15 col1\" >10</td>\n",
       "    </tr>\n",
       "    <tr>\n",
       "      <th id=\"T_20638_level0_row16\" class=\"row_heading level0 row16\" >16</th>\n",
       "      <td id=\"T_20638_row16_col0\" class=\"data row16 col0\" >CPU Jobs</td>\n",
       "      <td id=\"T_20638_row16_col1\" class=\"data row16 col1\" >-1</td>\n",
       "    </tr>\n",
       "    <tr>\n",
       "      <th id=\"T_20638_level0_row17\" class=\"row_heading level0 row17\" >17</th>\n",
       "      <td id=\"T_20638_row17_col0\" class=\"data row17 col0\" >Use GPU</td>\n",
       "      <td id=\"T_20638_row17_col1\" class=\"data row17 col1\" >False</td>\n",
       "    </tr>\n",
       "    <tr>\n",
       "      <th id=\"T_20638_level0_row18\" class=\"row_heading level0 row18\" >18</th>\n",
       "      <td id=\"T_20638_row18_col0\" class=\"data row18 col0\" >Log Experiment</td>\n",
       "      <td id=\"T_20638_row18_col1\" class=\"data row18 col1\" >False</td>\n",
       "    </tr>\n",
       "    <tr>\n",
       "      <th id=\"T_20638_level0_row19\" class=\"row_heading level0 row19\" >19</th>\n",
       "      <td id=\"T_20638_row19_col0\" class=\"data row19 col0\" >Experiment Name</td>\n",
       "      <td id=\"T_20638_row19_col1\" class=\"data row19 col1\" >reg-default-name</td>\n",
       "    </tr>\n",
       "    <tr>\n",
       "      <th id=\"T_20638_level0_row20\" class=\"row_heading level0 row20\" >20</th>\n",
       "      <td id=\"T_20638_row20_col0\" class=\"data row20 col0\" >USI</td>\n",
       "      <td id=\"T_20638_row20_col1\" class=\"data row20 col1\" >000e</td>\n",
       "    </tr>\n",
       "  </tbody>\n",
       "</table>\n"
      ],
      "text/plain": [
       "<pandas.io.formats.style.Styler at 0x13b7e8d8520>"
      ]
     },
     "metadata": {},
     "output_type": "display_data"
    }
   ],
   "source": [
    "from pycaret.regression import *\n",
    "s= setup(train2, target = 'salary_in_usd')"
   ]
  },
  {
   "cell_type": "code",
   "execution_count": 66,
   "id": "2ab81121",
   "metadata": {},
   "outputs": [
    {
     "data": {
      "text/html": [],
      "text/plain": [
       "<IPython.core.display.HTML object>"
      ]
     },
     "metadata": {},
     "output_type": "display_data"
    },
    {
     "data": {
      "text/html": [
       "<style type=\"text/css\">\n",
       "#T_ba4ee th {\n",
       "  text-align: left;\n",
       "}\n",
       "#T_ba4ee_row0_col0, #T_ba4ee_row0_col1, #T_ba4ee_row0_col5, #T_ba4ee_row0_col6, #T_ba4ee_row1_col0, #T_ba4ee_row1_col1, #T_ba4ee_row1_col2, #T_ba4ee_row1_col3, #T_ba4ee_row1_col4, #T_ba4ee_row1_col5, #T_ba4ee_row1_col6, #T_ba4ee_row2_col0, #T_ba4ee_row2_col2, #T_ba4ee_row2_col3, #T_ba4ee_row2_col4, #T_ba4ee_row2_col5, #T_ba4ee_row2_col6, #T_ba4ee_row3_col0, #T_ba4ee_row3_col1, #T_ba4ee_row3_col2, #T_ba4ee_row3_col3, #T_ba4ee_row3_col4, #T_ba4ee_row3_col6, #T_ba4ee_row4_col0, #T_ba4ee_row4_col1, #T_ba4ee_row4_col2, #T_ba4ee_row4_col3, #T_ba4ee_row4_col4, #T_ba4ee_row4_col5, #T_ba4ee_row4_col6, #T_ba4ee_row5_col0, #T_ba4ee_row5_col1, #T_ba4ee_row5_col2, #T_ba4ee_row5_col3, #T_ba4ee_row5_col4, #T_ba4ee_row5_col5, #T_ba4ee_row6_col0, #T_ba4ee_row6_col1, #T_ba4ee_row6_col2, #T_ba4ee_row6_col3, #T_ba4ee_row6_col4, #T_ba4ee_row6_col5, #T_ba4ee_row6_col6, #T_ba4ee_row7_col0, #T_ba4ee_row7_col1, #T_ba4ee_row7_col2, #T_ba4ee_row7_col3, #T_ba4ee_row7_col4, #T_ba4ee_row7_col5, #T_ba4ee_row7_col6, #T_ba4ee_row8_col0, #T_ba4ee_row8_col1, #T_ba4ee_row8_col2, #T_ba4ee_row8_col3, #T_ba4ee_row8_col4, #T_ba4ee_row8_col5, #T_ba4ee_row8_col6, #T_ba4ee_row9_col0, #T_ba4ee_row9_col1, #T_ba4ee_row9_col2, #T_ba4ee_row9_col3, #T_ba4ee_row9_col4, #T_ba4ee_row9_col5, #T_ba4ee_row9_col6, #T_ba4ee_row10_col0, #T_ba4ee_row10_col1, #T_ba4ee_row10_col2, #T_ba4ee_row10_col3, #T_ba4ee_row10_col4, #T_ba4ee_row10_col5, #T_ba4ee_row10_col6, #T_ba4ee_row11_col0, #T_ba4ee_row11_col1, #T_ba4ee_row11_col2, #T_ba4ee_row11_col3, #T_ba4ee_row11_col4, #T_ba4ee_row11_col5, #T_ba4ee_row11_col6, #T_ba4ee_row12_col0, #T_ba4ee_row12_col1, #T_ba4ee_row12_col2, #T_ba4ee_row12_col3, #T_ba4ee_row12_col4, #T_ba4ee_row12_col5, #T_ba4ee_row12_col6, #T_ba4ee_row13_col0, #T_ba4ee_row13_col1, #T_ba4ee_row13_col2, #T_ba4ee_row13_col3, #T_ba4ee_row13_col4, #T_ba4ee_row13_col5, #T_ba4ee_row13_col6, #T_ba4ee_row14_col0, #T_ba4ee_row14_col1, #T_ba4ee_row14_col2, #T_ba4ee_row14_col3, #T_ba4ee_row14_col4, #T_ba4ee_row14_col5, #T_ba4ee_row14_col6, #T_ba4ee_row15_col0, #T_ba4ee_row15_col1, #T_ba4ee_row15_col2, #T_ba4ee_row15_col3, #T_ba4ee_row15_col4, #T_ba4ee_row15_col5, #T_ba4ee_row15_col6, #T_ba4ee_row16_col0, #T_ba4ee_row16_col1, #T_ba4ee_row16_col2, #T_ba4ee_row16_col3, #T_ba4ee_row16_col4, #T_ba4ee_row16_col5, #T_ba4ee_row16_col6, #T_ba4ee_row17_col0, #T_ba4ee_row17_col1, #T_ba4ee_row17_col2, #T_ba4ee_row17_col3, #T_ba4ee_row17_col4, #T_ba4ee_row17_col5, #T_ba4ee_row17_col6, #T_ba4ee_row18_col0, #T_ba4ee_row18_col1, #T_ba4ee_row18_col2, #T_ba4ee_row18_col3, #T_ba4ee_row18_col4, #T_ba4ee_row18_col5, #T_ba4ee_row18_col6 {\n",
       "  text-align: left;\n",
       "}\n",
       "#T_ba4ee_row0_col2, #T_ba4ee_row0_col3, #T_ba4ee_row0_col4, #T_ba4ee_row2_col1, #T_ba4ee_row3_col5, #T_ba4ee_row5_col6 {\n",
       "  text-align: left;\n",
       "  background-color: yellow;\n",
       "}\n",
       "#T_ba4ee_row0_col7, #T_ba4ee_row1_col7, #T_ba4ee_row3_col7, #T_ba4ee_row4_col7, #T_ba4ee_row5_col7, #T_ba4ee_row6_col7, #T_ba4ee_row7_col7, #T_ba4ee_row9_col7, #T_ba4ee_row10_col7, #T_ba4ee_row11_col7, #T_ba4ee_row12_col7, #T_ba4ee_row13_col7, #T_ba4ee_row14_col7, #T_ba4ee_row15_col7, #T_ba4ee_row16_col7, #T_ba4ee_row18_col7 {\n",
       "  text-align: left;\n",
       "  background-color: lightgrey;\n",
       "}\n",
       "#T_ba4ee_row2_col7, #T_ba4ee_row8_col7, #T_ba4ee_row17_col7 {\n",
       "  text-align: left;\n",
       "  background-color: yellow;\n",
       "  background-color: lightgrey;\n",
       "}\n",
       "</style>\n",
       "<table id=\"T_ba4ee\">\n",
       "  <thead>\n",
       "    <tr>\n",
       "      <th class=\"blank level0\" >&nbsp;</th>\n",
       "      <th id=\"T_ba4ee_level0_col0\" class=\"col_heading level0 col0\" >Model</th>\n",
       "      <th id=\"T_ba4ee_level0_col1\" class=\"col_heading level0 col1\" >MAE</th>\n",
       "      <th id=\"T_ba4ee_level0_col2\" class=\"col_heading level0 col2\" >MSE</th>\n",
       "      <th id=\"T_ba4ee_level0_col3\" class=\"col_heading level0 col3\" >RMSE</th>\n",
       "      <th id=\"T_ba4ee_level0_col4\" class=\"col_heading level0 col4\" >R2</th>\n",
       "      <th id=\"T_ba4ee_level0_col5\" class=\"col_heading level0 col5\" >RMSLE</th>\n",
       "      <th id=\"T_ba4ee_level0_col6\" class=\"col_heading level0 col6\" >MAPE</th>\n",
       "      <th id=\"T_ba4ee_level0_col7\" class=\"col_heading level0 col7\" >TT (Sec)</th>\n",
       "    </tr>\n",
       "  </thead>\n",
       "  <tbody>\n",
       "    <tr>\n",
       "      <th id=\"T_ba4ee_level0_row0\" class=\"row_heading level0 row0\" >ada</th>\n",
       "      <td id=\"T_ba4ee_row0_col0\" class=\"data row0 col0\" >AdaBoost Regressor</td>\n",
       "      <td id=\"T_ba4ee_row0_col1\" class=\"data row0 col1\" >37262.4128</td>\n",
       "      <td id=\"T_ba4ee_row0_col2\" class=\"data row0 col2\" >3007334244.0617</td>\n",
       "      <td id=\"T_ba4ee_row0_col3\" class=\"data row0 col3\" >52498.1602</td>\n",
       "      <td id=\"T_ba4ee_row0_col4\" class=\"data row0 col4\" >0.3964</td>\n",
       "      <td id=\"T_ba4ee_row0_col5\" class=\"data row0 col5\" >0.5711</td>\n",
       "      <td id=\"T_ba4ee_row0_col6\" class=\"data row0 col6\" >0.6478</td>\n",
       "      <td id=\"T_ba4ee_row0_col7\" class=\"data row0 col7\" >0.1060</td>\n",
       "    </tr>\n",
       "    <tr>\n",
       "      <th id=\"T_ba4ee_level0_row1\" class=\"row_heading level0 row1\" >gbr</th>\n",
       "      <td id=\"T_ba4ee_row1_col0\" class=\"data row1 col0\" >Gradient Boosting Regressor</td>\n",
       "      <td id=\"T_ba4ee_row1_col1\" class=\"data row1 col1\" >37377.5985</td>\n",
       "      <td id=\"T_ba4ee_row1_col2\" class=\"data row1 col2\" >3022379044.1924</td>\n",
       "      <td id=\"T_ba4ee_row1_col3\" class=\"data row1 col3\" >52607.5903</td>\n",
       "      <td id=\"T_ba4ee_row1_col4\" class=\"data row1 col4\" >0.3957</td>\n",
       "      <td id=\"T_ba4ee_row1_col5\" class=\"data row1 col5\" >0.5606</td>\n",
       "      <td id=\"T_ba4ee_row1_col6\" class=\"data row1 col6\" >0.6192</td>\n",
       "      <td id=\"T_ba4ee_row1_col7\" class=\"data row1 col7\" >0.1230</td>\n",
       "    </tr>\n",
       "    <tr>\n",
       "      <th id=\"T_ba4ee_level0_row2\" class=\"row_heading level0 row2\" >ridge</th>\n",
       "      <td id=\"T_ba4ee_row2_col0\" class=\"data row2 col0\" >Ridge Regression</td>\n",
       "      <td id=\"T_ba4ee_row2_col1\" class=\"data row2 col1\" >36829.9509</td>\n",
       "      <td id=\"T_ba4ee_row2_col2\" class=\"data row2 col2\" >3019973282.2151</td>\n",
       "      <td id=\"T_ba4ee_row2_col3\" class=\"data row2 col3\" >52827.2254</td>\n",
       "      <td id=\"T_ba4ee_row2_col4\" class=\"data row2 col4\" >0.3884</td>\n",
       "      <td id=\"T_ba4ee_row2_col5\" class=\"data row2 col5\" >0.5863</td>\n",
       "      <td id=\"T_ba4ee_row2_col6\" class=\"data row2 col6\" >0.6819</td>\n",
       "      <td id=\"T_ba4ee_row2_col7\" class=\"data row2 col7\" >0.0580</td>\n",
       "    </tr>\n",
       "    <tr>\n",
       "      <th id=\"T_ba4ee_level0_row3\" class=\"row_heading level0 row3\" >rf</th>\n",
       "      <td id=\"T_ba4ee_row3_col0\" class=\"data row3 col0\" >Random Forest Regressor</td>\n",
       "      <td id=\"T_ba4ee_row3_col1\" class=\"data row3 col1\" >37214.1640</td>\n",
       "      <td id=\"T_ba4ee_row3_col2\" class=\"data row3 col2\" >3031870399.4250</td>\n",
       "      <td id=\"T_ba4ee_row3_col3\" class=\"data row3 col3\" >52991.0470</td>\n",
       "      <td id=\"T_ba4ee_row3_col4\" class=\"data row3 col4\" >0.3850</td>\n",
       "      <td id=\"T_ba4ee_row3_col5\" class=\"data row3 col5\" >0.5460</td>\n",
       "      <td id=\"T_ba4ee_row3_col6\" class=\"data row3 col6\" >0.6033</td>\n",
       "      <td id=\"T_ba4ee_row3_col7\" class=\"data row3 col7\" >0.1850</td>\n",
       "    </tr>\n",
       "    <tr>\n",
       "      <th id=\"T_ba4ee_level0_row4\" class=\"row_heading level0 row4\" >xgboost</th>\n",
       "      <td id=\"T_ba4ee_row4_col0\" class=\"data row4 col0\" >Extreme Gradient Boosting</td>\n",
       "      <td id=\"T_ba4ee_row4_col1\" class=\"data row4 col1\" >38344.2385</td>\n",
       "      <td id=\"T_ba4ee_row4_col2\" class=\"data row4 col2\" >3113546715.4876</td>\n",
       "      <td id=\"T_ba4ee_row4_col3\" class=\"data row4 col3\" >53834.5576</td>\n",
       "      <td id=\"T_ba4ee_row4_col4\" class=\"data row4 col4\" >0.3643</td>\n",
       "      <td id=\"T_ba4ee_row4_col5\" class=\"data row4 col5\" >0.5583</td>\n",
       "      <td id=\"T_ba4ee_row4_col6\" class=\"data row4 col6\" >0.6060</td>\n",
       "      <td id=\"T_ba4ee_row4_col7\" class=\"data row4 col7\" >0.1230</td>\n",
       "    </tr>\n",
       "    <tr>\n",
       "      <th id=\"T_ba4ee_level0_row5\" class=\"row_heading level0 row5\" >et</th>\n",
       "      <td id=\"T_ba4ee_row5_col0\" class=\"data row5 col0\" >Extra Trees Regressor</td>\n",
       "      <td id=\"T_ba4ee_row5_col1\" class=\"data row5 col1\" >37961.2864</td>\n",
       "      <td id=\"T_ba4ee_row5_col2\" class=\"data row5 col2\" >3109888996.3014</td>\n",
       "      <td id=\"T_ba4ee_row5_col3\" class=\"data row5 col3\" >53843.6107</td>\n",
       "      <td id=\"T_ba4ee_row5_col4\" class=\"data row5 col4\" >0.3585</td>\n",
       "      <td id=\"T_ba4ee_row5_col5\" class=\"data row5 col5\" >0.5695</td>\n",
       "      <td id=\"T_ba4ee_row5_col6\" class=\"data row5 col6\" >0.5807</td>\n",
       "      <td id=\"T_ba4ee_row5_col7\" class=\"data row5 col7\" >0.2150</td>\n",
       "    </tr>\n",
       "    <tr>\n",
       "      <th id=\"T_ba4ee_level0_row6\" class=\"row_heading level0 row6\" >lasso</th>\n",
       "      <td id=\"T_ba4ee_row6_col0\" class=\"data row6 col0\" >Lasso Regression</td>\n",
       "      <td id=\"T_ba4ee_row6_col1\" class=\"data row6 col1\" >37188.6441</td>\n",
       "      <td id=\"T_ba4ee_row6_col2\" class=\"data row6 col2\" >3163591724.7246</td>\n",
       "      <td id=\"T_ba4ee_row6_col3\" class=\"data row6 col3\" >54085.8277</td>\n",
       "      <td id=\"T_ba4ee_row6_col4\" class=\"data row6 col4\" >0.3510</td>\n",
       "      <td id=\"T_ba4ee_row6_col5\" class=\"data row6 col5\" >0.6000</td>\n",
       "      <td id=\"T_ba4ee_row6_col6\" class=\"data row6 col6\" >0.6799</td>\n",
       "      <td id=\"T_ba4ee_row6_col7\" class=\"data row6 col7\" >0.0630</td>\n",
       "    </tr>\n",
       "    <tr>\n",
       "      <th id=\"T_ba4ee_level0_row7\" class=\"row_heading level0 row7\" >llar</th>\n",
       "      <td id=\"T_ba4ee_row7_col0\" class=\"data row7 col0\" >Lasso Least Angle Regression</td>\n",
       "      <td id=\"T_ba4ee_row7_col1\" class=\"data row7 col1\" >37188.5890</td>\n",
       "      <td id=\"T_ba4ee_row7_col2\" class=\"data row7 col2\" >3163707490.6560</td>\n",
       "      <td id=\"T_ba4ee_row7_col3\" class=\"data row7 col3\" >54086.8292</td>\n",
       "      <td id=\"T_ba4ee_row7_col4\" class=\"data row7 col4\" >0.3509</td>\n",
       "      <td id=\"T_ba4ee_row7_col5\" class=\"data row7 col5\" >0.5996</td>\n",
       "      <td id=\"T_ba4ee_row7_col6\" class=\"data row7 col6\" >0.6801</td>\n",
       "      <td id=\"T_ba4ee_row7_col7\" class=\"data row7 col7\" >0.0760</td>\n",
       "    </tr>\n",
       "    <tr>\n",
       "      <th id=\"T_ba4ee_level0_row8\" class=\"row_heading level0 row8\" >lr</th>\n",
       "      <td id=\"T_ba4ee_row8_col0\" class=\"data row8 col0\" >Linear Regression</td>\n",
       "      <td id=\"T_ba4ee_row8_col1\" class=\"data row8 col1\" >37190.4280</td>\n",
       "      <td id=\"T_ba4ee_row8_col2\" class=\"data row8 col2\" >3164552863.9812</td>\n",
       "      <td id=\"T_ba4ee_row8_col3\" class=\"data row8 col3\" >54092.4708</td>\n",
       "      <td id=\"T_ba4ee_row8_col4\" class=\"data row8 col4\" >0.3508</td>\n",
       "      <td id=\"T_ba4ee_row8_col5\" class=\"data row8 col5\" >0.6006</td>\n",
       "      <td id=\"T_ba4ee_row8_col6\" class=\"data row8 col6\" >0.6798</td>\n",
       "      <td id=\"T_ba4ee_row8_col7\" class=\"data row8 col7\" >0.0580</td>\n",
       "    </tr>\n",
       "    <tr>\n",
       "      <th id=\"T_ba4ee_level0_row9\" class=\"row_heading level0 row9\" >lar</th>\n",
       "      <td id=\"T_ba4ee_row9_col0\" class=\"data row9 col0\" >Least Angle Regression</td>\n",
       "      <td id=\"T_ba4ee_row9_col1\" class=\"data row9 col1\" >37190.4280</td>\n",
       "      <td id=\"T_ba4ee_row9_col2\" class=\"data row9 col2\" >3164552863.9806</td>\n",
       "      <td id=\"T_ba4ee_row9_col3\" class=\"data row9 col3\" >54092.4708</td>\n",
       "      <td id=\"T_ba4ee_row9_col4\" class=\"data row9 col4\" >0.3508</td>\n",
       "      <td id=\"T_ba4ee_row9_col5\" class=\"data row9 col5\" >0.6006</td>\n",
       "      <td id=\"T_ba4ee_row9_col6\" class=\"data row9 col6\" >0.6798</td>\n",
       "      <td id=\"T_ba4ee_row9_col7\" class=\"data row9 col7\" >0.0710</td>\n",
       "    </tr>\n",
       "    <tr>\n",
       "      <th id=\"T_ba4ee_level0_row10\" class=\"row_heading level0 row10\" >en</th>\n",
       "      <td id=\"T_ba4ee_row10_col0\" class=\"data row10 col0\" >Elastic Net</td>\n",
       "      <td id=\"T_ba4ee_row10_col1\" class=\"data row10 col1\" >38899.7105</td>\n",
       "      <td id=\"T_ba4ee_row10_col2\" class=\"data row10 col2\" >3257367202.0050</td>\n",
       "      <td id=\"T_ba4ee_row10_col3\" class=\"data row10 col3\" >54878.9771</td>\n",
       "      <td id=\"T_ba4ee_row10_col4\" class=\"data row10 col4\" >0.3430</td>\n",
       "      <td id=\"T_ba4ee_row10_col5\" class=\"data row10 col5\" >0.6328</td>\n",
       "      <td id=\"T_ba4ee_row10_col6\" class=\"data row10 col6\" >0.8050</td>\n",
       "      <td id=\"T_ba4ee_row10_col7\" class=\"data row10 col7\" >0.0600</td>\n",
       "    </tr>\n",
       "    <tr>\n",
       "      <th id=\"T_ba4ee_level0_row11\" class=\"row_heading level0 row11\" >lightgbm</th>\n",
       "      <td id=\"T_ba4ee_row11_col0\" class=\"data row11 col0\" >Light Gradient Boosting Machine</td>\n",
       "      <td id=\"T_ba4ee_row11_col1\" class=\"data row11 col1\" >39498.5362</td>\n",
       "      <td id=\"T_ba4ee_row11_col2\" class=\"data row11 col2\" >3272021591.0348</td>\n",
       "      <td id=\"T_ba4ee_row11_col3\" class=\"data row11 col3\" >55203.5260</td>\n",
       "      <td id=\"T_ba4ee_row11_col4\" class=\"data row11 col4\" >0.3269</td>\n",
       "      <td id=\"T_ba4ee_row11_col5\" class=\"data row11 col5\" >0.6035</td>\n",
       "      <td id=\"T_ba4ee_row11_col6\" class=\"data row11 col6\" >0.6731</td>\n",
       "      <td id=\"T_ba4ee_row11_col7\" class=\"data row11 col7\" >0.0920</td>\n",
       "    </tr>\n",
       "    <tr>\n",
       "      <th id=\"T_ba4ee_level0_row12\" class=\"row_heading level0 row12\" >huber</th>\n",
       "      <td id=\"T_ba4ee_row12_col0\" class=\"data row12 col0\" >Huber Regressor</td>\n",
       "      <td id=\"T_ba4ee_row12_col1\" class=\"data row12 col1\" >39377.3575</td>\n",
       "      <td id=\"T_ba4ee_row12_col2\" class=\"data row12 col2\" >3407930576.2550</td>\n",
       "      <td id=\"T_ba4ee_row12_col3\" class=\"data row12 col3\" >56065.8087</td>\n",
       "      <td id=\"T_ba4ee_row12_col4\" class=\"data row12 col4\" >0.3144</td>\n",
       "      <td id=\"T_ba4ee_row12_col5\" class=\"data row12 col5\" >0.6312</td>\n",
       "      <td id=\"T_ba4ee_row12_col6\" class=\"data row12 col6\" >0.7958</td>\n",
       "      <td id=\"T_ba4ee_row12_col7\" class=\"data row12 col7\" >0.0860</td>\n",
       "    </tr>\n",
       "    <tr>\n",
       "      <th id=\"T_ba4ee_level0_row13\" class=\"row_heading level0 row13\" >br</th>\n",
       "      <td id=\"T_ba4ee_row13_col0\" class=\"data row13 col0\" >Bayesian Ridge</td>\n",
       "      <td id=\"T_ba4ee_row13_col1\" class=\"data row13 col1\" >40106.1058</td>\n",
       "      <td id=\"T_ba4ee_row13_col2\" class=\"data row13 col2\" >3409755379.0309</td>\n",
       "      <td id=\"T_ba4ee_row13_col3\" class=\"data row13 col3\" >56345.5190</td>\n",
       "      <td id=\"T_ba4ee_row13_col4\" class=\"data row13 col4\" >0.3060</td>\n",
       "      <td id=\"T_ba4ee_row13_col5\" class=\"data row13 col5\" >0.6553</td>\n",
       "      <td id=\"T_ba4ee_row13_col6\" class=\"data row13 col6\" >0.8584</td>\n",
       "      <td id=\"T_ba4ee_row13_col7\" class=\"data row13 col7\" >0.0610</td>\n",
       "    </tr>\n",
       "    <tr>\n",
       "      <th id=\"T_ba4ee_level0_row14\" class=\"row_heading level0 row14\" >dt</th>\n",
       "      <td id=\"T_ba4ee_row14_col0\" class=\"data row14 col0\" >Decision Tree Regressor</td>\n",
       "      <td id=\"T_ba4ee_row14_col1\" class=\"data row14 col1\" >41090.7943</td>\n",
       "      <td id=\"T_ba4ee_row14_col2\" class=\"data row14 col2\" >3401174248.2571</td>\n",
       "      <td id=\"T_ba4ee_row14_col3\" class=\"data row14 col3\" >56606.2887</td>\n",
       "      <td id=\"T_ba4ee_row14_col4\" class=\"data row14 col4\" >0.2866</td>\n",
       "      <td id=\"T_ba4ee_row14_col5\" class=\"data row14 col5\" >0.6171</td>\n",
       "      <td id=\"T_ba4ee_row14_col6\" class=\"data row14 col6\" >0.6447</td>\n",
       "      <td id=\"T_ba4ee_row14_col7\" class=\"data row14 col7\" >0.0970</td>\n",
       "    </tr>\n",
       "    <tr>\n",
       "      <th id=\"T_ba4ee_level0_row15\" class=\"row_heading level0 row15\" >knn</th>\n",
       "      <td id=\"T_ba4ee_row15_col0\" class=\"data row15 col0\" >K Neighbors Regressor</td>\n",
       "      <td id=\"T_ba4ee_row15_col1\" class=\"data row15 col1\" >39466.6651</td>\n",
       "      <td id=\"T_ba4ee_row15_col2\" class=\"data row15 col2\" >3447109794.6281</td>\n",
       "      <td id=\"T_ba4ee_row15_col3\" class=\"data row15 col3\" >56855.0311</td>\n",
       "      <td id=\"T_ba4ee_row15_col4\" class=\"data row15 col4\" >0.2800</td>\n",
       "      <td id=\"T_ba4ee_row15_col5\" class=\"data row15 col5\" >0.5990</td>\n",
       "      <td id=\"T_ba4ee_row15_col6\" class=\"data row15 col6\" >0.6365</td>\n",
       "      <td id=\"T_ba4ee_row15_col7\" class=\"data row15 col7\" >0.1660</td>\n",
       "    </tr>\n",
       "    <tr>\n",
       "      <th id=\"T_ba4ee_level0_row16\" class=\"row_heading level0 row16\" >omp</th>\n",
       "      <td id=\"T_ba4ee_row16_col0\" class=\"data row16 col0\" >Orthogonal Matching Pursuit</td>\n",
       "      <td id=\"T_ba4ee_row16_col1\" class=\"data row16 col1\" >41261.3442</td>\n",
       "      <td id=\"T_ba4ee_row16_col2\" class=\"data row16 col2\" >3540250898.4800</td>\n",
       "      <td id=\"T_ba4ee_row16_col3\" class=\"data row16 col3\" >57533.3759</td>\n",
       "      <td id=\"T_ba4ee_row16_col4\" class=\"data row16 col4\" >0.2748</td>\n",
       "      <td id=\"T_ba4ee_row16_col5\" class=\"data row16 col5\" >0.6641</td>\n",
       "      <td id=\"T_ba4ee_row16_col6\" class=\"data row16 col6\" >0.8734</td>\n",
       "      <td id=\"T_ba4ee_row16_col7\" class=\"data row16 col7\" >0.0620</td>\n",
       "    </tr>\n",
       "    <tr>\n",
       "      <th id=\"T_ba4ee_level0_row17\" class=\"row_heading level0 row17\" >par</th>\n",
       "      <td id=\"T_ba4ee_row17_col0\" class=\"data row17 col0\" >Passive Aggressive Regressor</td>\n",
       "      <td id=\"T_ba4ee_row17_col1\" class=\"data row17 col1\" >47904.6710</td>\n",
       "      <td id=\"T_ba4ee_row17_col2\" class=\"data row17 col2\" >4405350261.9735</td>\n",
       "      <td id=\"T_ba4ee_row17_col3\" class=\"data row17 col3\" >63624.4027</td>\n",
       "      <td id=\"T_ba4ee_row17_col4\" class=\"data row17 col4\" >0.1039</td>\n",
       "      <td id=\"T_ba4ee_row17_col5\" class=\"data row17 col5\" >0.7376</td>\n",
       "      <td id=\"T_ba4ee_row17_col6\" class=\"data row17 col6\" >0.9596</td>\n",
       "      <td id=\"T_ba4ee_row17_col7\" class=\"data row17 col7\" >0.0580</td>\n",
       "    </tr>\n",
       "    <tr>\n",
       "      <th id=\"T_ba4ee_level0_row18\" class=\"row_heading level0 row18\" >dummy</th>\n",
       "      <td id=\"T_ba4ee_row18_col0\" class=\"data row18 col0\" >Dummy Regressor</td>\n",
       "      <td id=\"T_ba4ee_row18_col1\" class=\"data row18 col1\" >51470.7512</td>\n",
       "      <td id=\"T_ba4ee_row18_col2\" class=\"data row18 col2\" >4917841459.9124</td>\n",
       "      <td id=\"T_ba4ee_row18_col3\" class=\"data row18 col3\" >68852.2218</td>\n",
       "      <td id=\"T_ba4ee_row18_col4\" class=\"data row18 col4\" >-0.0634</td>\n",
       "      <td id=\"T_ba4ee_row18_col5\" class=\"data row18 col5\" >0.7856</td>\n",
       "      <td id=\"T_ba4ee_row18_col6\" class=\"data row18 col6\" >1.2048</td>\n",
       "      <td id=\"T_ba4ee_row18_col7\" class=\"data row18 col7\" >0.0740</td>\n",
       "    </tr>\n",
       "  </tbody>\n",
       "</table>\n"
      ],
      "text/plain": [
       "<pandas.io.formats.style.Styler at 0x13b7e91d700>"
      ]
     },
     "metadata": {},
     "output_type": "display_data"
    },
    {
     "data": {
      "application/vnd.jupyter.widget-view+json": {
       "model_id": "",
       "version_major": 2,
       "version_minor": 0
      },
      "text/plain": [
       "Processing:   0%|          | 0/81 [00:00<?, ?it/s]"
      ]
     },
     "metadata": {},
     "output_type": "display_data"
    }
   ],
   "source": [
    "best = compare_models()"
   ]
  },
  {
   "cell_type": "code",
   "execution_count": 67,
   "id": "71411580",
   "metadata": {},
   "outputs": [
    {
     "data": {
      "application/vnd.jupyter.widget-view+json": {
       "model_id": "17762cc944344f36a161e4b1c80356f8",
       "version_major": 2,
       "version_minor": 0
      },
      "text/plain": [
       "interactive(children=(ToggleButtons(description='Plot Type:', icons=('',), options=(('Pipeline Plot', 'pipelin…"
      ]
     },
     "metadata": {},
     "output_type": "display_data"
    }
   ],
   "source": [
    "evaluate_model(best)"
   ]
  },
  {
   "cell_type": "code",
   "execution_count": 68,
   "id": "ac4f1317",
   "metadata": {},
   "outputs": [
    {
     "data": {
      "text/html": [],
      "text/plain": [
       "<IPython.core.display.HTML object>"
      ]
     },
     "metadata": {},
     "output_type": "display_data"
    }
   ],
   "source": [
    "predictions = predict_model(best,data = test2)"
   ]
  },
  {
   "cell_type": "code",
   "execution_count": 69,
   "id": "d6c97d3d",
   "metadata": {},
   "outputs": [
    {
     "data": {
      "text/html": [
       "<div>\n",
       "<style scoped>\n",
       "    .dataframe tbody tr th:only-of-type {\n",
       "        vertical-align: middle;\n",
       "    }\n",
       "\n",
       "    .dataframe tbody tr th {\n",
       "        vertical-align: top;\n",
       "    }\n",
       "\n",
       "    .dataframe thead th {\n",
       "        text-align: right;\n",
       "    }\n",
       "</style>\n",
       "<table border=\"1\" class=\"dataframe\">\n",
       "  <thead>\n",
       "    <tr style=\"text-align: right;\">\n",
       "      <th></th>\n",
       "      <th>experience_level</th>\n",
       "      <th>employment_type</th>\n",
       "      <th>job_title</th>\n",
       "      <th>employee_residence</th>\n",
       "      <th>company_size</th>\n",
       "      <th>prediction_label</th>\n",
       "    </tr>\n",
       "  </thead>\n",
       "  <tbody>\n",
       "    <tr>\n",
       "      <th>0</th>\n",
       "      <td>SE</td>\n",
       "      <td>FT</td>\n",
       "      <td>Machine Learning Scientist</td>\n",
       "      <td>JP</td>\n",
       "      <td>S</td>\n",
       "      <td>103770.095238</td>\n",
       "    </tr>\n",
       "    <tr>\n",
       "      <th>1</th>\n",
       "      <td>MI</td>\n",
       "      <td>FT</td>\n",
       "      <td>Lead Data Analyst</td>\n",
       "      <td>US</td>\n",
       "      <td>L</td>\n",
       "      <td>150973.133333</td>\n",
       "    </tr>\n",
       "    <tr>\n",
       "      <th>2</th>\n",
       "      <td>MI</td>\n",
       "      <td>FT</td>\n",
       "      <td>Data Analyst</td>\n",
       "      <td>US</td>\n",
       "      <td>L</td>\n",
       "      <td>150973.133333</td>\n",
       "    </tr>\n",
       "    <tr>\n",
       "      <th>3</th>\n",
       "      <td>MI</td>\n",
       "      <td>FT</td>\n",
       "      <td>Machine Learning Engineer</td>\n",
       "      <td>CN</td>\n",
       "      <td>M</td>\n",
       "      <td>52611.474453</td>\n",
       "    </tr>\n",
       "    <tr>\n",
       "      <th>4</th>\n",
       "      <td>MI</td>\n",
       "      <td>FT</td>\n",
       "      <td>Product Data Analyst</td>\n",
       "      <td>IN</td>\n",
       "      <td>L</td>\n",
       "      <td>54590.556962</td>\n",
       "    </tr>\n",
       "    <tr>\n",
       "      <th>...</th>\n",
       "      <td>...</td>\n",
       "      <td>...</td>\n",
       "      <td>...</td>\n",
       "      <td>...</td>\n",
       "      <td>...</td>\n",
       "      <td>...</td>\n",
       "    </tr>\n",
       "    <tr>\n",
       "      <th>102</th>\n",
       "      <td>SE</td>\n",
       "      <td>FT</td>\n",
       "      <td>Data Analyst</td>\n",
       "      <td>US</td>\n",
       "      <td>M</td>\n",
       "      <td>150973.133333</td>\n",
       "    </tr>\n",
       "    <tr>\n",
       "      <th>103</th>\n",
       "      <td>SE</td>\n",
       "      <td>FT</td>\n",
       "      <td>Data Architect</td>\n",
       "      <td>US</td>\n",
       "      <td>M</td>\n",
       "      <td>155553.034483</td>\n",
       "    </tr>\n",
       "    <tr>\n",
       "      <th>104</th>\n",
       "      <td>SE</td>\n",
       "      <td>FT</td>\n",
       "      <td>Data Scientist</td>\n",
       "      <td>US</td>\n",
       "      <td>M</td>\n",
       "      <td>155553.034483</td>\n",
       "    </tr>\n",
       "    <tr>\n",
       "      <th>105</th>\n",
       "      <td>EN</td>\n",
       "      <td>FT</td>\n",
       "      <td>Data Analyst</td>\n",
       "      <td>CA</td>\n",
       "      <td>M</td>\n",
       "      <td>52611.474453</td>\n",
       "    </tr>\n",
       "    <tr>\n",
       "      <th>106</th>\n",
       "      <td>SE</td>\n",
       "      <td>FT</td>\n",
       "      <td>Data Analyst</td>\n",
       "      <td>US</td>\n",
       "      <td>M</td>\n",
       "      <td>150973.133333</td>\n",
       "    </tr>\n",
       "  </tbody>\n",
       "</table>\n",
       "<p>107 rows × 6 columns</p>\n",
       "</div>"
      ],
      "text/plain": [
       "    experience_level employment_type                   job_title  \\\n",
       "0                 SE              FT  Machine Learning Scientist   \n",
       "1                 MI              FT           Lead Data Analyst   \n",
       "2                 MI              FT                Data Analyst   \n",
       "3                 MI              FT   Machine Learning Engineer   \n",
       "4                 MI              FT        Product Data Analyst   \n",
       "..               ...             ...                         ...   \n",
       "102               SE              FT                Data Analyst   \n",
       "103               SE              FT              Data Architect   \n",
       "104               SE              FT              Data Scientist   \n",
       "105               EN              FT                Data Analyst   \n",
       "106               SE              FT                Data Analyst   \n",
       "\n",
       "    employee_residence company_size  prediction_label  \n",
       "0                   JP            S     103770.095238  \n",
       "1                   US            L     150973.133333  \n",
       "2                   US            L     150973.133333  \n",
       "3                   CN            M      52611.474453  \n",
       "4                   IN            L      54590.556962  \n",
       "..                 ...          ...               ...  \n",
       "102                 US            M     150973.133333  \n",
       "103                 US            M     155553.034483  \n",
       "104                 US            M     155553.034483  \n",
       "105                 CA            M      52611.474453  \n",
       "106                 US            M     150973.133333  \n",
       "\n",
       "[107 rows x 6 columns]"
      ]
     },
     "execution_count": 69,
     "metadata": {},
     "output_type": "execute_result"
    }
   ],
   "source": [
    "predictions"
   ]
  },
  {
   "cell_type": "code",
   "execution_count": 71,
   "id": "330b71f1",
   "metadata": {},
   "outputs": [],
   "source": [
    "solution2= predictions.prediction_label"
   ]
  },
  {
   "cell_type": "code",
   "execution_count": 73,
   "id": "3e977bfa",
   "metadata": {},
   "outputs": [
    {
     "data": {
      "text/html": [
       "<div>\n",
       "<style scoped>\n",
       "    .dataframe tbody tr th:only-of-type {\n",
       "        vertical-align: middle;\n",
       "    }\n",
       "\n",
       "    .dataframe tbody tr th {\n",
       "        vertical-align: top;\n",
       "    }\n",
       "\n",
       "    .dataframe thead th {\n",
       "        text-align: right;\n",
       "    }\n",
       "</style>\n",
       "<table border=\"1\" class=\"dataframe\">\n",
       "  <thead>\n",
       "    <tr style=\"text-align: right;\">\n",
       "      <th></th>\n",
       "      <th>prediction_label</th>\n",
       "    </tr>\n",
       "  </thead>\n",
       "  <tbody>\n",
       "    <tr>\n",
       "      <th>0</th>\n",
       "      <td>103770.095238</td>\n",
       "    </tr>\n",
       "    <tr>\n",
       "      <th>1</th>\n",
       "      <td>150973.133333</td>\n",
       "    </tr>\n",
       "    <tr>\n",
       "      <th>2</th>\n",
       "      <td>150973.133333</td>\n",
       "    </tr>\n",
       "    <tr>\n",
       "      <th>3</th>\n",
       "      <td>52611.474453</td>\n",
       "    </tr>\n",
       "    <tr>\n",
       "      <th>4</th>\n",
       "      <td>54590.556962</td>\n",
       "    </tr>\n",
       "  </tbody>\n",
       "</table>\n",
       "</div>"
      ],
      "text/plain": [
       "   prediction_label\n",
       "0     103770.095238\n",
       "1     150973.133333\n",
       "2     150973.133333\n",
       "3      52611.474453\n",
       "4      54590.556962"
      ]
     },
     "execution_count": 73,
     "metadata": {},
     "output_type": "execute_result"
    }
   ],
   "source": [
    "solution2 = pd.DataFrame(predictions.prediction_label)\n",
    "solution2.head()"
   ]
  },
  {
   "cell_type": "code",
   "execution_count": 74,
   "id": "3e3b8faf",
   "metadata": {},
   "outputs": [],
   "source": [
    "solution2.reset_index(drop=True, inplace=True)"
   ]
  },
  {
   "cell_type": "code",
   "execution_count": 76,
   "id": "202ce21f",
   "metadata": {},
   "outputs": [
    {
     "data": {
      "text/html": [
       "<div>\n",
       "<style scoped>\n",
       "    .dataframe tbody tr th:only-of-type {\n",
       "        vertical-align: middle;\n",
       "    }\n",
       "\n",
       "    .dataframe tbody tr th {\n",
       "        vertical-align: top;\n",
       "    }\n",
       "\n",
       "    .dataframe thead th {\n",
       "        text-align: right;\n",
       "    }\n",
       "</style>\n",
       "<table border=\"1\" class=\"dataframe\">\n",
       "  <thead>\n",
       "    <tr style=\"text-align: right;\">\n",
       "      <th></th>\n",
       "      <th>prediction_label</th>\n",
       "    </tr>\n",
       "  </thead>\n",
       "  <tbody>\n",
       "    <tr>\n",
       "      <th>0</th>\n",
       "      <td>103770.095238</td>\n",
       "    </tr>\n",
       "    <tr>\n",
       "      <th>1</th>\n",
       "      <td>150973.133333</td>\n",
       "    </tr>\n",
       "    <tr>\n",
       "      <th>2</th>\n",
       "      <td>150973.133333</td>\n",
       "    </tr>\n",
       "    <tr>\n",
       "      <th>3</th>\n",
       "      <td>52611.474453</td>\n",
       "    </tr>\n",
       "    <tr>\n",
       "      <th>4</th>\n",
       "      <td>54590.556962</td>\n",
       "    </tr>\n",
       "  </tbody>\n",
       "</table>\n",
       "</div>"
      ],
      "text/plain": [
       "   prediction_label\n",
       "0     103770.095238\n",
       "1     150973.133333\n",
       "2     150973.133333\n",
       "3      52611.474453\n",
       "4      54590.556962"
      ]
     },
     "execution_count": 76,
     "metadata": {},
     "output_type": "execute_result"
    }
   ],
   "source": [
    "solution2.head()"
   ]
  },
  {
   "cell_type": "code",
   "execution_count": 85,
   "id": "f588dcd8",
   "metadata": {},
   "outputs": [],
   "source": [
    "solution2.rename(columns={\"\": \"id\", 'prediction_label': \"salary_in_usd\"}, inplace= True)"
   ]
  },
  {
   "cell_type": "code",
   "execution_count": 86,
   "id": "d6621a06",
   "metadata": {},
   "outputs": [
    {
     "data": {
      "text/html": [
       "<div>\n",
       "<style scoped>\n",
       "    .dataframe tbody tr th:only-of-type {\n",
       "        vertical-align: middle;\n",
       "    }\n",
       "\n",
       "    .dataframe tbody tr th {\n",
       "        vertical-align: top;\n",
       "    }\n",
       "\n",
       "    .dataframe thead th {\n",
       "        text-align: right;\n",
       "    }\n",
       "</style>\n",
       "<table border=\"1\" class=\"dataframe\">\n",
       "  <thead>\n",
       "    <tr style=\"text-align: right;\">\n",
       "      <th></th>\n",
       "      <th>salary_in_usd</th>\n",
       "    </tr>\n",
       "  </thead>\n",
       "  <tbody>\n",
       "    <tr>\n",
       "      <th>0</th>\n",
       "      <td>103770.095238</td>\n",
       "    </tr>\n",
       "    <tr>\n",
       "      <th>1</th>\n",
       "      <td>150973.133333</td>\n",
       "    </tr>\n",
       "    <tr>\n",
       "      <th>2</th>\n",
       "      <td>150973.133333</td>\n",
       "    </tr>\n",
       "    <tr>\n",
       "      <th>3</th>\n",
       "      <td>52611.474453</td>\n",
       "    </tr>\n",
       "    <tr>\n",
       "      <th>4</th>\n",
       "      <td>54590.556962</td>\n",
       "    </tr>\n",
       "    <tr>\n",
       "      <th>...</th>\n",
       "      <td>...</td>\n",
       "    </tr>\n",
       "    <tr>\n",
       "      <th>102</th>\n",
       "      <td>150973.133333</td>\n",
       "    </tr>\n",
       "    <tr>\n",
       "      <th>103</th>\n",
       "      <td>155553.034483</td>\n",
       "    </tr>\n",
       "    <tr>\n",
       "      <th>104</th>\n",
       "      <td>155553.034483</td>\n",
       "    </tr>\n",
       "    <tr>\n",
       "      <th>105</th>\n",
       "      <td>52611.474453</td>\n",
       "    </tr>\n",
       "    <tr>\n",
       "      <th>106</th>\n",
       "      <td>150973.133333</td>\n",
       "    </tr>\n",
       "  </tbody>\n",
       "</table>\n",
       "<p>107 rows × 1 columns</p>\n",
       "</div>"
      ],
      "text/plain": [
       "     salary_in_usd\n",
       "0    103770.095238\n",
       "1    150973.133333\n",
       "2    150973.133333\n",
       "3     52611.474453\n",
       "4     54590.556962\n",
       "..             ...\n",
       "102  150973.133333\n",
       "103  155553.034483\n",
       "104  155553.034483\n",
       "105   52611.474453\n",
       "106  150973.133333\n",
       "\n",
       "[107 rows x 1 columns]"
      ]
     },
     "execution_count": 86,
     "metadata": {},
     "output_type": "execute_result"
    }
   ],
   "source": [
    "solution2"
   ]
  },
  {
   "cell_type": "code",
   "execution_count": 87,
   "id": "79c38888",
   "metadata": {},
   "outputs": [
    {
     "ename": "PermissionError",
     "evalue": "[Errno 13] Permission denied: 'sols/sol2.csv'",
     "output_type": "error",
     "traceback": [
      "\u001b[1;31m---------------------------------------------------------------------------\u001b[0m",
      "\u001b[1;31mPermissionError\u001b[0m                           Traceback (most recent call last)",
      "\u001b[1;32m~\\AppData\\Local\\Temp\\ipykernel_9484\\1639479447.py\u001b[0m in \u001b[0;36m<module>\u001b[1;34m\u001b[0m\n\u001b[1;32m----> 1\u001b[1;33m \u001b[0msolution2\u001b[0m\u001b[1;33m.\u001b[0m\u001b[0mto_csv\u001b[0m\u001b[1;33m(\u001b[0m\u001b[1;34m'sols/sol2.csv'\u001b[0m\u001b[1;33m)\u001b[0m\u001b[1;33m\u001b[0m\u001b[1;33m\u001b[0m\u001b[0m\n\u001b[0m",
      "\u001b[1;32m~\\anaconda3\\lib\\site-packages\\pandas\\core\\generic.py\u001b[0m in \u001b[0;36mto_csv\u001b[1;34m(self, path_or_buf, sep, na_rep, float_format, columns, header, index, index_label, mode, encoding, compression, quoting, quotechar, line_terminator, chunksize, date_format, doublequote, escapechar, decimal, errors, storage_options)\u001b[0m\n\u001b[0;32m   3549\u001b[0m         )\n\u001b[0;32m   3550\u001b[0m \u001b[1;33m\u001b[0m\u001b[0m\n\u001b[1;32m-> 3551\u001b[1;33m         return DataFrameRenderer(formatter).to_csv(\n\u001b[0m\u001b[0;32m   3552\u001b[0m             \u001b[0mpath_or_buf\u001b[0m\u001b[1;33m,\u001b[0m\u001b[1;33m\u001b[0m\u001b[1;33m\u001b[0m\u001b[0m\n\u001b[0;32m   3553\u001b[0m             \u001b[0mline_terminator\u001b[0m\u001b[1;33m=\u001b[0m\u001b[0mline_terminator\u001b[0m\u001b[1;33m,\u001b[0m\u001b[1;33m\u001b[0m\u001b[1;33m\u001b[0m\u001b[0m\n",
      "\u001b[1;32m~\\anaconda3\\lib\\site-packages\\pandas\\io\\formats\\format.py\u001b[0m in \u001b[0;36mto_csv\u001b[1;34m(self, path_or_buf, encoding, sep, columns, index_label, mode, compression, quoting, quotechar, line_terminator, chunksize, date_format, doublequote, escapechar, errors, storage_options)\u001b[0m\n\u001b[0;32m   1178\u001b[0m             \u001b[0mformatter\u001b[0m\u001b[1;33m=\u001b[0m\u001b[0mself\u001b[0m\u001b[1;33m.\u001b[0m\u001b[0mfmt\u001b[0m\u001b[1;33m,\u001b[0m\u001b[1;33m\u001b[0m\u001b[1;33m\u001b[0m\u001b[0m\n\u001b[0;32m   1179\u001b[0m         )\n\u001b[1;32m-> 1180\u001b[1;33m         \u001b[0mcsv_formatter\u001b[0m\u001b[1;33m.\u001b[0m\u001b[0msave\u001b[0m\u001b[1;33m(\u001b[0m\u001b[1;33m)\u001b[0m\u001b[1;33m\u001b[0m\u001b[1;33m\u001b[0m\u001b[0m\n\u001b[0m\u001b[0;32m   1181\u001b[0m \u001b[1;33m\u001b[0m\u001b[0m\n\u001b[0;32m   1182\u001b[0m         \u001b[1;32mif\u001b[0m \u001b[0mcreated_buffer\u001b[0m\u001b[1;33m:\u001b[0m\u001b[1;33m\u001b[0m\u001b[1;33m\u001b[0m\u001b[0m\n",
      "\u001b[1;32m~\\anaconda3\\lib\\site-packages\\pandas\\io\\formats\\csvs.py\u001b[0m in \u001b[0;36msave\u001b[1;34m(self)\u001b[0m\n\u001b[0;32m    239\u001b[0m         \"\"\"\n\u001b[0;32m    240\u001b[0m         \u001b[1;31m# apply compression and byte/text conversion\u001b[0m\u001b[1;33m\u001b[0m\u001b[1;33m\u001b[0m\u001b[0m\n\u001b[1;32m--> 241\u001b[1;33m         with get_handle(\n\u001b[0m\u001b[0;32m    242\u001b[0m             \u001b[0mself\u001b[0m\u001b[1;33m.\u001b[0m\u001b[0mfilepath_or_buffer\u001b[0m\u001b[1;33m,\u001b[0m\u001b[1;33m\u001b[0m\u001b[1;33m\u001b[0m\u001b[0m\n\u001b[0;32m    243\u001b[0m             \u001b[0mself\u001b[0m\u001b[1;33m.\u001b[0m\u001b[0mmode\u001b[0m\u001b[1;33m,\u001b[0m\u001b[1;33m\u001b[0m\u001b[1;33m\u001b[0m\u001b[0m\n",
      "\u001b[1;32m~\\anaconda3\\lib\\site-packages\\pandas\\io\\common.py\u001b[0m in \u001b[0;36mget_handle\u001b[1;34m(path_or_buf, mode, encoding, compression, memory_map, is_text, errors, storage_options)\u001b[0m\n\u001b[0;32m    784\u001b[0m         \u001b[1;32mif\u001b[0m \u001b[0mioargs\u001b[0m\u001b[1;33m.\u001b[0m\u001b[0mencoding\u001b[0m \u001b[1;32mand\u001b[0m \u001b[1;34m\"b\"\u001b[0m \u001b[1;32mnot\u001b[0m \u001b[1;32min\u001b[0m \u001b[0mioargs\u001b[0m\u001b[1;33m.\u001b[0m\u001b[0mmode\u001b[0m\u001b[1;33m:\u001b[0m\u001b[1;33m\u001b[0m\u001b[1;33m\u001b[0m\u001b[0m\n\u001b[0;32m    785\u001b[0m             \u001b[1;31m# Encoding\u001b[0m\u001b[1;33m\u001b[0m\u001b[1;33m\u001b[0m\u001b[0m\n\u001b[1;32m--> 786\u001b[1;33m             handle = open(\n\u001b[0m\u001b[0;32m    787\u001b[0m                 \u001b[0mhandle\u001b[0m\u001b[1;33m,\u001b[0m\u001b[1;33m\u001b[0m\u001b[1;33m\u001b[0m\u001b[0m\n\u001b[0;32m    788\u001b[0m                 \u001b[0mioargs\u001b[0m\u001b[1;33m.\u001b[0m\u001b[0mmode\u001b[0m\u001b[1;33m,\u001b[0m\u001b[1;33m\u001b[0m\u001b[1;33m\u001b[0m\u001b[0m\n",
      "\u001b[1;31mPermissionError\u001b[0m: [Errno 13] Permission denied: 'sols/sol2.csv'"
     ]
    }
   ],
   "source": [
    "solution2.to_csv('sols/sol2.csv')"
   ]
  },
  {
   "cell_type": "code",
   "execution_count": 84,
   "id": "9bb87b02",
   "metadata": {},
   "outputs": [
    {
     "ename": "ValueError",
     "evalue": "Found input variables with inconsistent numbers of samples: [500, 107]",
     "output_type": "error",
     "traceback": [
      "\u001b[1;31m---------------------------------------------------------------------------\u001b[0m",
      "\u001b[1;31mValueError\u001b[0m                                Traceback (most recent call last)",
      "\u001b[1;32m~\\AppData\\Local\\Temp\\ipykernel_9484\\3415176208.py\u001b[0m in \u001b[0;36m<module>\u001b[1;34m\u001b[0m\n\u001b[0;32m      1\u001b[0m \u001b[1;32mfrom\u001b[0m \u001b[0msklearn\u001b[0m\u001b[1;33m.\u001b[0m\u001b[0mmetrics\u001b[0m \u001b[1;32mimport\u001b[0m \u001b[0mmean_squared_error\u001b[0m \u001b[1;32mas\u001b[0m \u001b[0mmse\u001b[0m\u001b[1;33m\u001b[0m\u001b[1;33m\u001b[0m\u001b[0m\n\u001b[1;32m----> 2\u001b[1;33m \u001b[0mmse\u001b[0m\u001b[1;33m(\u001b[0m\u001b[0mtrain2\u001b[0m\u001b[1;33m,\u001b[0m \u001b[0mtest2\u001b[0m\u001b[1;33m,\u001b[0m \u001b[0msquared\u001b[0m\u001b[1;33m=\u001b[0m\u001b[1;32mFalse\u001b[0m\u001b[1;33m)\u001b[0m\u001b[1;33m\u001b[0m\u001b[1;33m\u001b[0m\u001b[0m\n\u001b[0m",
      "\u001b[1;32m~\\anaconda3\\lib\\site-packages\\sklearn\\metrics\\_regression.py\u001b[0m in \u001b[0;36mmean_squared_error\u001b[1;34m(y_true, y_pred, sample_weight, multioutput, squared)\u001b[0m\n\u001b[0;32m    436\u001b[0m     \u001b[1;36m0.825\u001b[0m\u001b[1;33m...\u001b[0m\u001b[1;33m\u001b[0m\u001b[1;33m\u001b[0m\u001b[0m\n\u001b[0;32m    437\u001b[0m     \"\"\"\n\u001b[1;32m--> 438\u001b[1;33m     y_type, y_true, y_pred, multioutput = _check_reg_targets(\n\u001b[0m\u001b[0;32m    439\u001b[0m         \u001b[0my_true\u001b[0m\u001b[1;33m,\u001b[0m \u001b[0my_pred\u001b[0m\u001b[1;33m,\u001b[0m \u001b[0mmultioutput\u001b[0m\u001b[1;33m\u001b[0m\u001b[1;33m\u001b[0m\u001b[0m\n\u001b[0;32m    440\u001b[0m     )\n",
      "\u001b[1;32m~\\anaconda3\\lib\\site-packages\\sklearn\\metrics\\_regression.py\u001b[0m in \u001b[0;36m_check_reg_targets\u001b[1;34m(y_true, y_pred, multioutput, dtype)\u001b[0m\n\u001b[0;32m     92\u001b[0m         \u001b[0mthe\u001b[0m \u001b[0mdtype\u001b[0m \u001b[0margument\u001b[0m \u001b[0mpassed\u001b[0m \u001b[0mto\u001b[0m \u001b[0mcheck_array\u001b[0m\u001b[1;33m.\u001b[0m\u001b[1;33m\u001b[0m\u001b[1;33m\u001b[0m\u001b[0m\n\u001b[0;32m     93\u001b[0m     \"\"\"\n\u001b[1;32m---> 94\u001b[1;33m     \u001b[0mcheck_consistent_length\u001b[0m\u001b[1;33m(\u001b[0m\u001b[0my_true\u001b[0m\u001b[1;33m,\u001b[0m \u001b[0my_pred\u001b[0m\u001b[1;33m)\u001b[0m\u001b[1;33m\u001b[0m\u001b[1;33m\u001b[0m\u001b[0m\n\u001b[0m\u001b[0;32m     95\u001b[0m     \u001b[0my_true\u001b[0m \u001b[1;33m=\u001b[0m \u001b[0mcheck_array\u001b[0m\u001b[1;33m(\u001b[0m\u001b[0my_true\u001b[0m\u001b[1;33m,\u001b[0m \u001b[0mensure_2d\u001b[0m\u001b[1;33m=\u001b[0m\u001b[1;32mFalse\u001b[0m\u001b[1;33m,\u001b[0m \u001b[0mdtype\u001b[0m\u001b[1;33m=\u001b[0m\u001b[0mdtype\u001b[0m\u001b[1;33m)\u001b[0m\u001b[1;33m\u001b[0m\u001b[1;33m\u001b[0m\u001b[0m\n\u001b[0;32m     96\u001b[0m     \u001b[0my_pred\u001b[0m \u001b[1;33m=\u001b[0m \u001b[0mcheck_array\u001b[0m\u001b[1;33m(\u001b[0m\u001b[0my_pred\u001b[0m\u001b[1;33m,\u001b[0m \u001b[0mensure_2d\u001b[0m\u001b[1;33m=\u001b[0m\u001b[1;32mFalse\u001b[0m\u001b[1;33m,\u001b[0m \u001b[0mdtype\u001b[0m\u001b[1;33m=\u001b[0m\u001b[0mdtype\u001b[0m\u001b[1;33m)\u001b[0m\u001b[1;33m\u001b[0m\u001b[1;33m\u001b[0m\u001b[0m\n",
      "\u001b[1;32m~\\anaconda3\\lib\\site-packages\\sklearn\\utils\\validation.py\u001b[0m in \u001b[0;36mcheck_consistent_length\u001b[1;34m(*arrays)\u001b[0m\n\u001b[0;32m    330\u001b[0m     \u001b[0muniques\u001b[0m \u001b[1;33m=\u001b[0m \u001b[0mnp\u001b[0m\u001b[1;33m.\u001b[0m\u001b[0munique\u001b[0m\u001b[1;33m(\u001b[0m\u001b[0mlengths\u001b[0m\u001b[1;33m)\u001b[0m\u001b[1;33m\u001b[0m\u001b[1;33m\u001b[0m\u001b[0m\n\u001b[0;32m    331\u001b[0m     \u001b[1;32mif\u001b[0m \u001b[0mlen\u001b[0m\u001b[1;33m(\u001b[0m\u001b[0muniques\u001b[0m\u001b[1;33m)\u001b[0m \u001b[1;33m>\u001b[0m \u001b[1;36m1\u001b[0m\u001b[1;33m:\u001b[0m\u001b[1;33m\u001b[0m\u001b[1;33m\u001b[0m\u001b[0m\n\u001b[1;32m--> 332\u001b[1;33m         raise ValueError(\n\u001b[0m\u001b[0;32m    333\u001b[0m             \u001b[1;34m\"Found input variables with inconsistent numbers of samples: %r\"\u001b[0m\u001b[1;33m\u001b[0m\u001b[1;33m\u001b[0m\u001b[0m\n\u001b[0;32m    334\u001b[0m             \u001b[1;33m%\u001b[0m \u001b[1;33m[\u001b[0m\u001b[0mint\u001b[0m\u001b[1;33m(\u001b[0m\u001b[0ml\u001b[0m\u001b[1;33m)\u001b[0m \u001b[1;32mfor\u001b[0m \u001b[0ml\u001b[0m \u001b[1;32min\u001b[0m \u001b[0mlengths\u001b[0m\u001b[1;33m]\u001b[0m\u001b[1;33m\u001b[0m\u001b[1;33m\u001b[0m\u001b[0m\n",
      "\u001b[1;31mValueError\u001b[0m: Found input variables with inconsistent numbers of samples: [500, 107]"
     ]
    }
   ],
   "source": [
    "from sklearn.metrics import mean_squared_error as mse\n",
    "mse(train2, test2, squared=False)"
   ]
  },
  {
   "cell_type": "markdown",
   "id": "566c1147",
   "metadata": {},
   "source": [
    "### "
   ]
  },
  {
   "cell_type": "code",
   "execution_count": null,
   "id": "022d7a3f",
   "metadata": {},
   "outputs": [],
   "source": []
  }
 ],
 "metadata": {
  "kernelspec": {
   "display_name": "Python 3 (ipykernel)",
   "language": "python",
   "name": "python3"
  },
  "language_info": {
   "codemirror_mode": {
    "name": "ipython",
    "version": 3
   },
   "file_extension": ".py",
   "mimetype": "text/x-python",
   "name": "python",
   "nbconvert_exporter": "python",
   "pygments_lexer": "ipython3",
   "version": "3.9.13"
  }
 },
 "nbformat": 4,
 "nbformat_minor": 5
}

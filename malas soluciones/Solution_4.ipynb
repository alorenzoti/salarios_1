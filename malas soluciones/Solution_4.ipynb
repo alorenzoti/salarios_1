{
 "cells": [
  {
   "cell_type": "code",
   "execution_count": 25,
   "id": "f2849ba5",
   "metadata": {},
   "outputs": [],
   "source": [
    "import numpy as np\n",
    "import pandas as pd\n",
    "import seaborn as sns"
   ]
  },
  {
   "cell_type": "code",
   "execution_count": 26,
   "id": "dfede64a",
   "metadata": {},
   "outputs": [],
   "source": [
    "salaries = pd.read_csv('data/salaries_data.csv')"
   ]
  },
  {
   "cell_type": "code",
   "execution_count": 27,
   "id": "1c5104eb",
   "metadata": {},
   "outputs": [
    {
     "data": {
      "text/html": [
       "<div>\n",
       "<style scoped>\n",
       "    .dataframe tbody tr th:only-of-type {\n",
       "        vertical-align: middle;\n",
       "    }\n",
       "\n",
       "    .dataframe tbody tr th {\n",
       "        vertical-align: top;\n",
       "    }\n",
       "\n",
       "    .dataframe thead th {\n",
       "        text-align: right;\n",
       "    }\n",
       "</style>\n",
       "<table border=\"1\" class=\"dataframe\">\n",
       "  <thead>\n",
       "    <tr style=\"text-align: right;\">\n",
       "      <th></th>\n",
       "      <th>work_year</th>\n",
       "      <th>experience_level</th>\n",
       "      <th>employment_type</th>\n",
       "      <th>job_title</th>\n",
       "      <th>salary</th>\n",
       "      <th>salary_currency</th>\n",
       "      <th>salary_in_usd</th>\n",
       "      <th>employee_residence</th>\n",
       "      <th>remote_ratio</th>\n",
       "      <th>company_location</th>\n",
       "      <th>company_size</th>\n",
       "    </tr>\n",
       "  </thead>\n",
       "  <tbody>\n",
       "    <tr>\n",
       "      <th>0</th>\n",
       "      <td>2022</td>\n",
       "      <td>SE</td>\n",
       "      <td>FT</td>\n",
       "      <td>Data Engineer</td>\n",
       "      <td>140250</td>\n",
       "      <td>USD</td>\n",
       "      <td>140250</td>\n",
       "      <td>US</td>\n",
       "      <td>100</td>\n",
       "      <td>US</td>\n",
       "      <td>M</td>\n",
       "    </tr>\n",
       "    <tr>\n",
       "      <th>1</th>\n",
       "      <td>2022</td>\n",
       "      <td>SE</td>\n",
       "      <td>FT</td>\n",
       "      <td>Data Engineer</td>\n",
       "      <td>135000</td>\n",
       "      <td>USD</td>\n",
       "      <td>135000</td>\n",
       "      <td>US</td>\n",
       "      <td>100</td>\n",
       "      <td>US</td>\n",
       "      <td>M</td>\n",
       "    </tr>\n",
       "    <tr>\n",
       "      <th>2</th>\n",
       "      <td>2021</td>\n",
       "      <td>MI</td>\n",
       "      <td>FT</td>\n",
       "      <td>BI Data Analyst</td>\n",
       "      <td>100000</td>\n",
       "      <td>USD</td>\n",
       "      <td>100000</td>\n",
       "      <td>US</td>\n",
       "      <td>100</td>\n",
       "      <td>US</td>\n",
       "      <td>M</td>\n",
       "    </tr>\n",
       "    <tr>\n",
       "      <th>3</th>\n",
       "      <td>2021</td>\n",
       "      <td>MI</td>\n",
       "      <td>CT</td>\n",
       "      <td>ML Engineer</td>\n",
       "      <td>270000</td>\n",
       "      <td>USD</td>\n",
       "      <td>270000</td>\n",
       "      <td>US</td>\n",
       "      <td>100</td>\n",
       "      <td>US</td>\n",
       "      <td>L</td>\n",
       "    </tr>\n",
       "    <tr>\n",
       "      <th>4</th>\n",
       "      <td>2021</td>\n",
       "      <td>MI</td>\n",
       "      <td>FT</td>\n",
       "      <td>Data Engineer</td>\n",
       "      <td>22000</td>\n",
       "      <td>EUR</td>\n",
       "      <td>26005</td>\n",
       "      <td>RO</td>\n",
       "      <td>0</td>\n",
       "      <td>US</td>\n",
       "      <td>L</td>\n",
       "    </tr>\n",
       "  </tbody>\n",
       "</table>\n",
       "</div>"
      ],
      "text/plain": [
       "   work_year experience_level employment_type        job_title  salary  \\\n",
       "0       2022               SE              FT    Data Engineer  140250   \n",
       "1       2022               SE              FT    Data Engineer  135000   \n",
       "2       2021               MI              FT  BI Data Analyst  100000   \n",
       "3       2021               MI              CT      ML Engineer  270000   \n",
       "4       2021               MI              FT    Data Engineer   22000   \n",
       "\n",
       "  salary_currency  salary_in_usd employee_residence  remote_ratio  \\\n",
       "0             USD         140250                 US           100   \n",
       "1             USD         135000                 US           100   \n",
       "2             USD         100000                 US           100   \n",
       "3             USD         270000                 US           100   \n",
       "4             EUR          26005                 RO             0   \n",
       "\n",
       "  company_location company_size  \n",
       "0               US            M  \n",
       "1               US            M  \n",
       "2               US            M  \n",
       "3               US            L  \n",
       "4               US            L  "
      ]
     },
     "execution_count": 27,
     "metadata": {},
     "output_type": "execute_result"
    }
   ],
   "source": [
    "salaries.head()"
   ]
  },
  {
   "cell_type": "code",
   "execution_count": 28,
   "id": "c356dd62",
   "metadata": {},
   "outputs": [],
   "source": [
    "test = pd.read_csv('data/testeo.csv')"
   ]
  },
  {
   "cell_type": "code",
   "execution_count": 29,
   "id": "f1a61815",
   "metadata": {},
   "outputs": [
    {
     "data": {
      "text/html": [
       "<div>\n",
       "<style scoped>\n",
       "    .dataframe tbody tr th:only-of-type {\n",
       "        vertical-align: middle;\n",
       "    }\n",
       "\n",
       "    .dataframe tbody tr th {\n",
       "        vertical-align: top;\n",
       "    }\n",
       "\n",
       "    .dataframe thead th {\n",
       "        text-align: right;\n",
       "    }\n",
       "</style>\n",
       "<table border=\"1\" class=\"dataframe\">\n",
       "  <thead>\n",
       "    <tr style=\"text-align: right;\">\n",
       "      <th></th>\n",
       "      <th>work_year</th>\n",
       "      <th>experience_level</th>\n",
       "      <th>employment_type</th>\n",
       "      <th>job_title</th>\n",
       "      <th>employee_residence</th>\n",
       "      <th>remote_ratio</th>\n",
       "      <th>company_location</th>\n",
       "      <th>company_size</th>\n",
       "    </tr>\n",
       "  </thead>\n",
       "  <tbody>\n",
       "    <tr>\n",
       "      <th>0</th>\n",
       "      <td>2020</td>\n",
       "      <td>SE</td>\n",
       "      <td>FT</td>\n",
       "      <td>Machine Learning Scientist</td>\n",
       "      <td>JP</td>\n",
       "      <td>0</td>\n",
       "      <td>JP</td>\n",
       "      <td>S</td>\n",
       "    </tr>\n",
       "    <tr>\n",
       "      <th>1</th>\n",
       "      <td>2020</td>\n",
       "      <td>MI</td>\n",
       "      <td>FT</td>\n",
       "      <td>Lead Data Analyst</td>\n",
       "      <td>US</td>\n",
       "      <td>100</td>\n",
       "      <td>US</td>\n",
       "      <td>L</td>\n",
       "    </tr>\n",
       "    <tr>\n",
       "      <th>2</th>\n",
       "      <td>2020</td>\n",
       "      <td>MI</td>\n",
       "      <td>FT</td>\n",
       "      <td>Data Analyst</td>\n",
       "      <td>US</td>\n",
       "      <td>100</td>\n",
       "      <td>US</td>\n",
       "      <td>L</td>\n",
       "    </tr>\n",
       "    <tr>\n",
       "      <th>3</th>\n",
       "      <td>2020</td>\n",
       "      <td>MI</td>\n",
       "      <td>FT</td>\n",
       "      <td>Machine Learning Engineer</td>\n",
       "      <td>CN</td>\n",
       "      <td>0</td>\n",
       "      <td>CN</td>\n",
       "      <td>M</td>\n",
       "    </tr>\n",
       "    <tr>\n",
       "      <th>4</th>\n",
       "      <td>2020</td>\n",
       "      <td>MI</td>\n",
       "      <td>FT</td>\n",
       "      <td>Product Data Analyst</td>\n",
       "      <td>IN</td>\n",
       "      <td>100</td>\n",
       "      <td>IN</td>\n",
       "      <td>L</td>\n",
       "    </tr>\n",
       "  </tbody>\n",
       "</table>\n",
       "</div>"
      ],
      "text/plain": [
       "   work_year experience_level employment_type                   job_title  \\\n",
       "0       2020               SE              FT  Machine Learning Scientist   \n",
       "1       2020               MI              FT           Lead Data Analyst   \n",
       "2       2020               MI              FT                Data Analyst   \n",
       "3       2020               MI              FT   Machine Learning Engineer   \n",
       "4       2020               MI              FT        Product Data Analyst   \n",
       "\n",
       "  employee_residence  remote_ratio company_location company_size  \n",
       "0                 JP             0               JP            S  \n",
       "1                 US           100               US            L  \n",
       "2                 US           100               US            L  \n",
       "3                 CN             0               CN            M  \n",
       "4                 IN           100               IN            L  "
      ]
     },
     "execution_count": 29,
     "metadata": {},
     "output_type": "execute_result"
    }
   ],
   "source": [
    "test.head()"
   ]
  },
  {
   "cell_type": "code",
   "execution_count": 30,
   "id": "c81db9b8",
   "metadata": {},
   "outputs": [
    {
     "data": {
      "text/plain": [
       "False"
      ]
     },
     "execution_count": 30,
     "metadata": {},
     "output_type": "execute_result"
    }
   ],
   "source": [
    "len(salaries.columns)==len(test.columns)"
   ]
  },
  {
   "cell_type": "code",
   "execution_count": 31,
   "id": "073a272b",
   "metadata": {},
   "outputs": [],
   "source": [
    "salaries.drop(columns=salaries[['salary', 'salary_currency']], axis=1, inplace=True)"
   ]
  },
  {
   "cell_type": "code",
   "execution_count": 32,
   "id": "b4736594",
   "metadata": {},
   "outputs": [
    {
     "data": {
      "text/plain": [
       "9"
      ]
     },
     "execution_count": 32,
     "metadata": {},
     "output_type": "execute_result"
    }
   ],
   "source": [
    "len(salaries.columns)"
   ]
  },
  {
   "cell_type": "code",
   "execution_count": 33,
   "id": "fe2d9bf1",
   "metadata": {},
   "outputs": [
    {
     "data": {
      "text/plain": [
       "Index(['work_year', 'experience_level', 'employment_type', 'job_title',\n",
       "       'salary_in_usd', 'employee_residence', 'remote_ratio',\n",
       "       'company_location', 'company_size'],\n",
       "      dtype='object')"
      ]
     },
     "execution_count": 33,
     "metadata": {},
     "output_type": "execute_result"
    }
   ],
   "source": [
    "salaries.columns"
   ]
  },
  {
   "cell_type": "code",
   "execution_count": 34,
   "id": "40c51fd8",
   "metadata": {},
   "outputs": [
    {
     "data": {
      "text/plain": [
       "Index(['work_year', 'experience_level', 'employment_type', 'job_title',\n",
       "       'employee_residence', 'remote_ratio', 'company_location',\n",
       "       'company_size'],\n",
       "      dtype='object')"
      ]
     },
     "execution_count": 34,
     "metadata": {},
     "output_type": "execute_result"
    }
   ],
   "source": [
    "test.columns"
   ]
  },
  {
   "cell_type": "code",
   "execution_count": 35,
   "id": "9141a745",
   "metadata": {},
   "outputs": [
    {
     "data": {
      "text/plain": [
       "8"
      ]
     },
     "execution_count": 35,
     "metadata": {},
     "output_type": "execute_result"
    }
   ],
   "source": [
    "len(test.columns)"
   ]
  },
  {
   "cell_type": "code",
   "execution_count": 36,
   "id": "68aa3b64",
   "metadata": {},
   "outputs": [
    {
     "data": {
      "text/html": [
       "<style type=\"text/css\">\n",
       "#T_74bd5_row9_col1 {\n",
       "  background-color: lightgreen;\n",
       "}\n",
       "</style>\n",
       "<table id=\"T_74bd5\">\n",
       "  <thead>\n",
       "    <tr>\n",
       "      <th class=\"blank level0\" >&nbsp;</th>\n",
       "      <th id=\"T_74bd5_level0_col0\" class=\"col_heading level0 col0\" >Description</th>\n",
       "      <th id=\"T_74bd5_level0_col1\" class=\"col_heading level0 col1\" >Value</th>\n",
       "    </tr>\n",
       "  </thead>\n",
       "  <tbody>\n",
       "    <tr>\n",
       "      <th id=\"T_74bd5_level0_row0\" class=\"row_heading level0 row0\" >0</th>\n",
       "      <td id=\"T_74bd5_row0_col0\" class=\"data row0 col0\" >Session id</td>\n",
       "      <td id=\"T_74bd5_row0_col1\" class=\"data row0 col1\" >4313</td>\n",
       "    </tr>\n",
       "    <tr>\n",
       "      <th id=\"T_74bd5_level0_row1\" class=\"row_heading level0 row1\" >1</th>\n",
       "      <td id=\"T_74bd5_row1_col0\" class=\"data row1 col0\" >Target</td>\n",
       "      <td id=\"T_74bd5_row1_col1\" class=\"data row1 col1\" >salary_in_usd</td>\n",
       "    </tr>\n",
       "    <tr>\n",
       "      <th id=\"T_74bd5_level0_row2\" class=\"row_heading level0 row2\" >2</th>\n",
       "      <td id=\"T_74bd5_row2_col0\" class=\"data row2 col0\" >Target type</td>\n",
       "      <td id=\"T_74bd5_row2_col1\" class=\"data row2 col1\" >Regression</td>\n",
       "    </tr>\n",
       "    <tr>\n",
       "      <th id=\"T_74bd5_level0_row3\" class=\"row_heading level0 row3\" >3</th>\n",
       "      <td id=\"T_74bd5_row3_col0\" class=\"data row3 col0\" >Original data shape</td>\n",
       "      <td id=\"T_74bd5_row3_col1\" class=\"data row3 col1\" >(500, 9)</td>\n",
       "    </tr>\n",
       "    <tr>\n",
       "      <th id=\"T_74bd5_level0_row4\" class=\"row_heading level0 row4\" >4</th>\n",
       "      <td id=\"T_74bd5_row4_col0\" class=\"data row4 col0\" >Transformed data shape</td>\n",
       "      <td id=\"T_74bd5_row4_col1\" class=\"data row4 col1\" >(500, 17)</td>\n",
       "    </tr>\n",
       "    <tr>\n",
       "      <th id=\"T_74bd5_level0_row5\" class=\"row_heading level0 row5\" >5</th>\n",
       "      <td id=\"T_74bd5_row5_col0\" class=\"data row5 col0\" >Transformed train set shape</td>\n",
       "      <td id=\"T_74bd5_row5_col1\" class=\"data row5 col1\" >(350, 17)</td>\n",
       "    </tr>\n",
       "    <tr>\n",
       "      <th id=\"T_74bd5_level0_row6\" class=\"row_heading level0 row6\" >6</th>\n",
       "      <td id=\"T_74bd5_row6_col0\" class=\"data row6 col0\" >Transformed test set shape</td>\n",
       "      <td id=\"T_74bd5_row6_col1\" class=\"data row6 col1\" >(150, 17)</td>\n",
       "    </tr>\n",
       "    <tr>\n",
       "      <th id=\"T_74bd5_level0_row7\" class=\"row_heading level0 row7\" >7</th>\n",
       "      <td id=\"T_74bd5_row7_col0\" class=\"data row7 col0\" >Numeric features</td>\n",
       "      <td id=\"T_74bd5_row7_col1\" class=\"data row7 col1\" >2</td>\n",
       "    </tr>\n",
       "    <tr>\n",
       "      <th id=\"T_74bd5_level0_row8\" class=\"row_heading level0 row8\" >8</th>\n",
       "      <td id=\"T_74bd5_row8_col0\" class=\"data row8 col0\" >Categorical features</td>\n",
       "      <td id=\"T_74bd5_row8_col1\" class=\"data row8 col1\" >6</td>\n",
       "    </tr>\n",
       "    <tr>\n",
       "      <th id=\"T_74bd5_level0_row9\" class=\"row_heading level0 row9\" >9</th>\n",
       "      <td id=\"T_74bd5_row9_col0\" class=\"data row9 col0\" >Preprocess</td>\n",
       "      <td id=\"T_74bd5_row9_col1\" class=\"data row9 col1\" >True</td>\n",
       "    </tr>\n",
       "    <tr>\n",
       "      <th id=\"T_74bd5_level0_row10\" class=\"row_heading level0 row10\" >10</th>\n",
       "      <td id=\"T_74bd5_row10_col0\" class=\"data row10 col0\" >Imputation type</td>\n",
       "      <td id=\"T_74bd5_row10_col1\" class=\"data row10 col1\" >simple</td>\n",
       "    </tr>\n",
       "    <tr>\n",
       "      <th id=\"T_74bd5_level0_row11\" class=\"row_heading level0 row11\" >11</th>\n",
       "      <td id=\"T_74bd5_row11_col0\" class=\"data row11 col0\" >Numeric imputation</td>\n",
       "      <td id=\"T_74bd5_row11_col1\" class=\"data row11 col1\" >mean</td>\n",
       "    </tr>\n",
       "    <tr>\n",
       "      <th id=\"T_74bd5_level0_row12\" class=\"row_heading level0 row12\" >12</th>\n",
       "      <td id=\"T_74bd5_row12_col0\" class=\"data row12 col0\" >Categorical imputation</td>\n",
       "      <td id=\"T_74bd5_row12_col1\" class=\"data row12 col1\" >mode</td>\n",
       "    </tr>\n",
       "    <tr>\n",
       "      <th id=\"T_74bd5_level0_row13\" class=\"row_heading level0 row13\" >13</th>\n",
       "      <td id=\"T_74bd5_row13_col0\" class=\"data row13 col0\" >Maximum one-hot encoding</td>\n",
       "      <td id=\"T_74bd5_row13_col1\" class=\"data row13 col1\" >25</td>\n",
       "    </tr>\n",
       "    <tr>\n",
       "      <th id=\"T_74bd5_level0_row14\" class=\"row_heading level0 row14\" >14</th>\n",
       "      <td id=\"T_74bd5_row14_col0\" class=\"data row14 col0\" >Encoding method</td>\n",
       "      <td id=\"T_74bd5_row14_col1\" class=\"data row14 col1\" >None</td>\n",
       "    </tr>\n",
       "    <tr>\n",
       "      <th id=\"T_74bd5_level0_row15\" class=\"row_heading level0 row15\" >15</th>\n",
       "      <td id=\"T_74bd5_row15_col0\" class=\"data row15 col0\" >Fold Generator</td>\n",
       "      <td id=\"T_74bd5_row15_col1\" class=\"data row15 col1\" >KFold</td>\n",
       "    </tr>\n",
       "    <tr>\n",
       "      <th id=\"T_74bd5_level0_row16\" class=\"row_heading level0 row16\" >16</th>\n",
       "      <td id=\"T_74bd5_row16_col0\" class=\"data row16 col0\" >Fold Number</td>\n",
       "      <td id=\"T_74bd5_row16_col1\" class=\"data row16 col1\" >10</td>\n",
       "    </tr>\n",
       "    <tr>\n",
       "      <th id=\"T_74bd5_level0_row17\" class=\"row_heading level0 row17\" >17</th>\n",
       "      <td id=\"T_74bd5_row17_col0\" class=\"data row17 col0\" >CPU Jobs</td>\n",
       "      <td id=\"T_74bd5_row17_col1\" class=\"data row17 col1\" >-1</td>\n",
       "    </tr>\n",
       "    <tr>\n",
       "      <th id=\"T_74bd5_level0_row18\" class=\"row_heading level0 row18\" >18</th>\n",
       "      <td id=\"T_74bd5_row18_col0\" class=\"data row18 col0\" >Use GPU</td>\n",
       "      <td id=\"T_74bd5_row18_col1\" class=\"data row18 col1\" >False</td>\n",
       "    </tr>\n",
       "    <tr>\n",
       "      <th id=\"T_74bd5_level0_row19\" class=\"row_heading level0 row19\" >19</th>\n",
       "      <td id=\"T_74bd5_row19_col0\" class=\"data row19 col0\" >Log Experiment</td>\n",
       "      <td id=\"T_74bd5_row19_col1\" class=\"data row19 col1\" >False</td>\n",
       "    </tr>\n",
       "    <tr>\n",
       "      <th id=\"T_74bd5_level0_row20\" class=\"row_heading level0 row20\" >20</th>\n",
       "      <td id=\"T_74bd5_row20_col0\" class=\"data row20 col0\" >Experiment Name</td>\n",
       "      <td id=\"T_74bd5_row20_col1\" class=\"data row20 col1\" >reg-default-name</td>\n",
       "    </tr>\n",
       "    <tr>\n",
       "      <th id=\"T_74bd5_level0_row21\" class=\"row_heading level0 row21\" >21</th>\n",
       "      <td id=\"T_74bd5_row21_col0\" class=\"data row21 col0\" >USI</td>\n",
       "      <td id=\"T_74bd5_row21_col1\" class=\"data row21 col1\" >d590</td>\n",
       "    </tr>\n",
       "  </tbody>\n",
       "</table>\n"
      ],
      "text/plain": [
       "<pandas.io.formats.style.Styler at 0x23a56d0b4c0>"
      ]
     },
     "metadata": {},
     "output_type": "display_data"
    }
   ],
   "source": [
    "from pycaret.regression import *\n",
    "s= setup(salaries, target = 'salary_in_usd')"
   ]
  },
  {
   "cell_type": "code",
   "execution_count": null,
   "id": "2ab81121",
   "metadata": {},
   "outputs": [
    {
     "data": {
      "text/html": [
       "<div>\n",
       "<style scoped>\n",
       "    .dataframe tbody tr th:only-of-type {\n",
       "        vertical-align: middle;\n",
       "    }\n",
       "\n",
       "    .dataframe tbody tr th {\n",
       "        vertical-align: top;\n",
       "    }\n",
       "\n",
       "    .dataframe thead th {\n",
       "        text-align: right;\n",
       "    }\n",
       "</style>\n",
       "<table border=\"1\" class=\"dataframe\">\n",
       "  <thead>\n",
       "    <tr style=\"text-align: right;\">\n",
       "      <th></th>\n",
       "      <th></th>\n",
       "      <th></th>\n",
       "    </tr>\n",
       "    <tr>\n",
       "      <th></th>\n",
       "      <th></th>\n",
       "      <th></th>\n",
       "    </tr>\n",
       "  </thead>\n",
       "  <tbody>\n",
       "    <tr>\n",
       "      <th>Initiated</th>\n",
       "      <td>. . . . . . . . . . . . . . . . . .</td>\n",
       "      <td>17:34:22</td>\n",
       "    </tr>\n",
       "    <tr>\n",
       "      <th>Status</th>\n",
       "      <td>. . . . . . . . . . . . . . . . . .</td>\n",
       "      <td>Fitting 10 Folds</td>\n",
       "    </tr>\n",
       "    <tr>\n",
       "      <th>Estimator</th>\n",
       "      <td>. . . . . . . . . . . . . . . . . .</td>\n",
       "      <td>Random Forest Regressor</td>\n",
       "    </tr>\n",
       "  </tbody>\n",
       "</table>\n",
       "</div>"
      ],
      "text/plain": [
       "                                                                       \n",
       "                                                                       \n",
       "Initiated  . . . . . . . . . . . . . . . . . .                 17:34:22\n",
       "Status     . . . . . . . . . . . . . . . . . .         Fitting 10 Folds\n",
       "Estimator  . . . . . . . . . . . . . . . . . .  Random Forest Regressor"
      ]
     },
     "metadata": {},
     "output_type": "display_data"
    },
    {
     "data": {
      "text/html": [
       "<style type=\"text/css\">\n",
       "#T_eaf2d th {\n",
       "  text-align: left;\n",
       "}\n",
       "#T_eaf2d_row0_col0, #T_eaf2d_row0_col1, #T_eaf2d_row0_col2, #T_eaf2d_row0_col3, #T_eaf2d_row0_col4, #T_eaf2d_row0_col5, #T_eaf2d_row0_col6, #T_eaf2d_row0_col7, #T_eaf2d_row1_col0, #T_eaf2d_row1_col1, #T_eaf2d_row1_col2, #T_eaf2d_row1_col3, #T_eaf2d_row1_col4, #T_eaf2d_row1_col5, #T_eaf2d_row1_col6, #T_eaf2d_row1_col7, #T_eaf2d_row2_col0, #T_eaf2d_row2_col1, #T_eaf2d_row2_col2, #T_eaf2d_row2_col3, #T_eaf2d_row2_col4, #T_eaf2d_row2_col5, #T_eaf2d_row2_col6, #T_eaf2d_row2_col7, #T_eaf2d_row3_col0, #T_eaf2d_row3_col1, #T_eaf2d_row3_col2, #T_eaf2d_row3_col3, #T_eaf2d_row3_col4, #T_eaf2d_row3_col5, #T_eaf2d_row3_col6, #T_eaf2d_row3_col7, #T_eaf2d_row4_col0, #T_eaf2d_row4_col1, #T_eaf2d_row4_col2, #T_eaf2d_row4_col3, #T_eaf2d_row4_col4, #T_eaf2d_row4_col5, #T_eaf2d_row4_col6, #T_eaf2d_row4_col7, #T_eaf2d_row5_col0, #T_eaf2d_row5_col1, #T_eaf2d_row5_col2, #T_eaf2d_row5_col3, #T_eaf2d_row5_col4, #T_eaf2d_row5_col5, #T_eaf2d_row5_col6, #T_eaf2d_row5_col7, #T_eaf2d_row6_col0, #T_eaf2d_row6_col1, #T_eaf2d_row6_col2, #T_eaf2d_row6_col3, #T_eaf2d_row6_col4, #T_eaf2d_row6_col5, #T_eaf2d_row6_col6, #T_eaf2d_row6_col7, #T_eaf2d_row7_col0, #T_eaf2d_row7_col1, #T_eaf2d_row7_col2, #T_eaf2d_row7_col3, #T_eaf2d_row7_col4, #T_eaf2d_row7_col5, #T_eaf2d_row7_col6, #T_eaf2d_row7_col7, #T_eaf2d_row8_col0, #T_eaf2d_row8_col1, #T_eaf2d_row8_col2, #T_eaf2d_row8_col3, #T_eaf2d_row8_col4, #T_eaf2d_row8_col5, #T_eaf2d_row8_col6, #T_eaf2d_row8_col7, #T_eaf2d_row9_col0, #T_eaf2d_row9_col1, #T_eaf2d_row9_col2, #T_eaf2d_row9_col3, #T_eaf2d_row9_col4, #T_eaf2d_row9_col5, #T_eaf2d_row9_col6, #T_eaf2d_row9_col7, #T_eaf2d_row10_col0, #T_eaf2d_row10_col1, #T_eaf2d_row10_col2, #T_eaf2d_row10_col3, #T_eaf2d_row10_col4, #T_eaf2d_row10_col5, #T_eaf2d_row10_col6, #T_eaf2d_row10_col7, #T_eaf2d_row11_col0, #T_eaf2d_row11_col1, #T_eaf2d_row11_col2, #T_eaf2d_row11_col3, #T_eaf2d_row11_col4, #T_eaf2d_row11_col5, #T_eaf2d_row11_col6, #T_eaf2d_row11_col7 {\n",
       "  text-align: left;\n",
       "}\n",
       "</style>\n",
       "<table id=\"T_eaf2d\">\n",
       "  <thead>\n",
       "    <tr>\n",
       "      <th class=\"blank level0\" >&nbsp;</th>\n",
       "      <th id=\"T_eaf2d_level0_col0\" class=\"col_heading level0 col0\" >Model</th>\n",
       "      <th id=\"T_eaf2d_level0_col1\" class=\"col_heading level0 col1\" >MAE</th>\n",
       "      <th id=\"T_eaf2d_level0_col2\" class=\"col_heading level0 col2\" >MSE</th>\n",
       "      <th id=\"T_eaf2d_level0_col3\" class=\"col_heading level0 col3\" >RMSE</th>\n",
       "      <th id=\"T_eaf2d_level0_col4\" class=\"col_heading level0 col4\" >R2</th>\n",
       "      <th id=\"T_eaf2d_level0_col5\" class=\"col_heading level0 col5\" >RMSLE</th>\n",
       "      <th id=\"T_eaf2d_level0_col6\" class=\"col_heading level0 col6\" >MAPE</th>\n",
       "      <th id=\"T_eaf2d_level0_col7\" class=\"col_heading level0 col7\" >TT (Sec)</th>\n",
       "    </tr>\n",
       "  </thead>\n",
       "  <tbody>\n",
       "    <tr>\n",
       "      <th id=\"T_eaf2d_level0_row0\" class=\"row_heading level0 row0\" >ridge</th>\n",
       "      <td id=\"T_eaf2d_row0_col0\" class=\"data row0 col0\" >Ridge Regression</td>\n",
       "      <td id=\"T_eaf2d_row0_col1\" class=\"data row0 col1\" >35447.7349</td>\n",
       "      <td id=\"T_eaf2d_row0_col2\" class=\"data row0 col2\" >2594383587.2089</td>\n",
       "      <td id=\"T_eaf2d_row0_col3\" class=\"data row0 col3\" >50015.8476</td>\n",
       "      <td id=\"T_eaf2d_row0_col4\" class=\"data row0 col4\" >0.4616</td>\n",
       "      <td id=\"T_eaf2d_row0_col5\" class=\"data row0 col5\" >0.6073</td>\n",
       "      <td id=\"T_eaf2d_row0_col6\" class=\"data row0 col6\" >0.7100</td>\n",
       "      <td id=\"T_eaf2d_row0_col7\" class=\"data row0 col7\" >0.0810</td>\n",
       "    </tr>\n",
       "    <tr>\n",
       "      <th id=\"T_eaf2d_level0_row1\" class=\"row_heading level0 row1\" >lr</th>\n",
       "      <td id=\"T_eaf2d_row1_col0\" class=\"data row1 col0\" >Linear Regression</td>\n",
       "      <td id=\"T_eaf2d_row1_col1\" class=\"data row1 col1\" >35637.6906</td>\n",
       "      <td id=\"T_eaf2d_row1_col2\" class=\"data row1 col2\" >2612792417.0856</td>\n",
       "      <td id=\"T_eaf2d_row1_col3\" class=\"data row1 col3\" >50205.1321</td>\n",
       "      <td id=\"T_eaf2d_row1_col4\" class=\"data row1 col4\" >0.4567</td>\n",
       "      <td id=\"T_eaf2d_row1_col5\" class=\"data row1 col5\" >0.6246</td>\n",
       "      <td id=\"T_eaf2d_row1_col6\" class=\"data row1 col6\" >0.7115</td>\n",
       "      <td id=\"T_eaf2d_row1_col7\" class=\"data row1 col7\" >0.8610</td>\n",
       "    </tr>\n",
       "    <tr>\n",
       "      <th id=\"T_eaf2d_level0_row2\" class=\"row_heading level0 row2\" >lasso</th>\n",
       "      <td id=\"T_eaf2d_row2_col0\" class=\"data row2 col0\" >Lasso Regression</td>\n",
       "      <td id=\"T_eaf2d_row2_col1\" class=\"data row2 col1\" >35636.8903</td>\n",
       "      <td id=\"T_eaf2d_row2_col2\" class=\"data row2 col2\" >2612826454.7373</td>\n",
       "      <td id=\"T_eaf2d_row2_col3\" class=\"data row2 col3\" >50205.5931</td>\n",
       "      <td id=\"T_eaf2d_row2_col4\" class=\"data row2 col4\" >0.4567</td>\n",
       "      <td id=\"T_eaf2d_row2_col5\" class=\"data row2 col5\" >0.6251</td>\n",
       "      <td id=\"T_eaf2d_row2_col6\" class=\"data row2 col6\" >0.7115</td>\n",
       "      <td id=\"T_eaf2d_row2_col7\" class=\"data row2 col7\" >0.0820</td>\n",
       "    </tr>\n",
       "    <tr>\n",
       "      <th id=\"T_eaf2d_level0_row3\" class=\"row_heading level0 row3\" >lar</th>\n",
       "      <td id=\"T_eaf2d_row3_col0\" class=\"data row3 col0\" >Least Angle Regression</td>\n",
       "      <td id=\"T_eaf2d_row3_col1\" class=\"data row3 col1\" >35637.6906</td>\n",
       "      <td id=\"T_eaf2d_row3_col2\" class=\"data row3 col2\" >2612792417.0866</td>\n",
       "      <td id=\"T_eaf2d_row3_col3\" class=\"data row3 col3\" >50205.1321</td>\n",
       "      <td id=\"T_eaf2d_row3_col4\" class=\"data row3 col4\" >0.4567</td>\n",
       "      <td id=\"T_eaf2d_row3_col5\" class=\"data row3 col5\" >0.6246</td>\n",
       "      <td id=\"T_eaf2d_row3_col6\" class=\"data row3 col6\" >0.7115</td>\n",
       "      <td id=\"T_eaf2d_row3_col7\" class=\"data row3 col7\" >0.0810</td>\n",
       "    </tr>\n",
       "    <tr>\n",
       "      <th id=\"T_eaf2d_level0_row4\" class=\"row_heading level0 row4\" >llar</th>\n",
       "      <td id=\"T_eaf2d_row4_col0\" class=\"data row4 col0\" >Lasso Least Angle Regression</td>\n",
       "      <td id=\"T_eaf2d_row4_col1\" class=\"data row4 col1\" >35631.2804</td>\n",
       "      <td id=\"T_eaf2d_row4_col2\" class=\"data row4 col2\" >2612769284.8189</td>\n",
       "      <td id=\"T_eaf2d_row4_col3\" class=\"data row4 col3\" >50204.0082</td>\n",
       "      <td id=\"T_eaf2d_row4_col4\" class=\"data row4 col4\" >0.4567</td>\n",
       "      <td id=\"T_eaf2d_row4_col5\" class=\"data row4 col5\" >0.6237</td>\n",
       "      <td id=\"T_eaf2d_row4_col6\" class=\"data row4 col6\" >0.7115</td>\n",
       "      <td id=\"T_eaf2d_row4_col7\" class=\"data row4 col7\" >0.0880</td>\n",
       "    </tr>\n",
       "    <tr>\n",
       "      <th id=\"T_eaf2d_level0_row5\" class=\"row_heading level0 row5\" >en</th>\n",
       "      <td id=\"T_eaf2d_row5_col0\" class=\"data row5 col0\" >Elastic Net</td>\n",
       "      <td id=\"T_eaf2d_row5_col1\" class=\"data row5 col1\" >36237.0524</td>\n",
       "      <td id=\"T_eaf2d_row5_col2\" class=\"data row5 col2\" >2781401390.0324</td>\n",
       "      <td id=\"T_eaf2d_row5_col3\" class=\"data row5 col3\" >51831.6500</td>\n",
       "      <td id=\"T_eaf2d_row5_col4\" class=\"data row5 col4\" >0.4218</td>\n",
       "      <td id=\"T_eaf2d_row5_col5\" class=\"data row5 col5\" >0.6101</td>\n",
       "      <td id=\"T_eaf2d_row5_col6\" class=\"data row5 col6\" >0.7860</td>\n",
       "      <td id=\"T_eaf2d_row5_col7\" class=\"data row5 col7\" >0.1060</td>\n",
       "    </tr>\n",
       "    <tr>\n",
       "      <th id=\"T_eaf2d_level0_row6\" class=\"row_heading level0 row6\" >br</th>\n",
       "      <td id=\"T_eaf2d_row6_col0\" class=\"data row6 col0\" >Bayesian Ridge</td>\n",
       "      <td id=\"T_eaf2d_row6_col1\" class=\"data row6 col1\" >37444.6135</td>\n",
       "      <td id=\"T_eaf2d_row6_col2\" class=\"data row6 col2\" >2913628988.1968</td>\n",
       "      <td id=\"T_eaf2d_row6_col3\" class=\"data row6 col3\" >53154.8952</td>\n",
       "      <td id=\"T_eaf2d_row6_col4\" class=\"data row6 col4\" >0.3916</td>\n",
       "      <td id=\"T_eaf2d_row6_col5\" class=\"data row6 col5\" >0.6401</td>\n",
       "      <td id=\"T_eaf2d_row6_col6\" class=\"data row6 col6\" >0.8570</td>\n",
       "      <td id=\"T_eaf2d_row6_col7\" class=\"data row6 col7\" >0.0760</td>\n",
       "    </tr>\n",
       "    <tr>\n",
       "      <th id=\"T_eaf2d_level0_row7\" class=\"row_heading level0 row7\" >huber</th>\n",
       "      <td id=\"T_eaf2d_row7_col0\" class=\"data row7 col0\" >Huber Regressor</td>\n",
       "      <td id=\"T_eaf2d_row7_col1\" class=\"data row7 col1\" >37250.1081</td>\n",
       "      <td id=\"T_eaf2d_row7_col2\" class=\"data row7 col2\" >2944329766.3606</td>\n",
       "      <td id=\"T_eaf2d_row7_col3\" class=\"data row7 col3\" >53381.1362</td>\n",
       "      <td id=\"T_eaf2d_row7_col4\" class=\"data row7 col4\" >0.3869</td>\n",
       "      <td id=\"T_eaf2d_row7_col5\" class=\"data row7 col5\" >0.6378</td>\n",
       "      <td id=\"T_eaf2d_row7_col6\" class=\"data row7 col6\" >0.8129</td>\n",
       "      <td id=\"T_eaf2d_row7_col7\" class=\"data row7 col7\" >0.1190</td>\n",
       "    </tr>\n",
       "    <tr>\n",
       "      <th id=\"T_eaf2d_level0_row8\" class=\"row_heading level0 row8\" >dt</th>\n",
       "      <td id=\"T_eaf2d_row8_col0\" class=\"data row8 col0\" >Decision Tree Regressor</td>\n",
       "      <td id=\"T_eaf2d_row8_col1\" class=\"data row8 col1\" >37935.3514</td>\n",
       "      <td id=\"T_eaf2d_row8_col2\" class=\"data row8 col2\" >3016151401.9114</td>\n",
       "      <td id=\"T_eaf2d_row8_col3\" class=\"data row8 col3\" >53665.0124</td>\n",
       "      <td id=\"T_eaf2d_row8_col4\" class=\"data row8 col4\" >0.3726</td>\n",
       "      <td id=\"T_eaf2d_row8_col5\" class=\"data row8 col5\" >0.6547</td>\n",
       "      <td id=\"T_eaf2d_row8_col6\" class=\"data row8 col6\" >0.6622</td>\n",
       "      <td id=\"T_eaf2d_row8_col7\" class=\"data row8 col7\" >0.0980</td>\n",
       "    </tr>\n",
       "    <tr>\n",
       "      <th id=\"T_eaf2d_level0_row9\" class=\"row_heading level0 row9\" >omp</th>\n",
       "      <td id=\"T_eaf2d_row9_col0\" class=\"data row9 col0\" >Orthogonal Matching Pursuit</td>\n",
       "      <td id=\"T_eaf2d_row9_col1\" class=\"data row9 col1\" >39197.8626</td>\n",
       "      <td id=\"T_eaf2d_row9_col2\" class=\"data row9 col2\" >3099591001.4840</td>\n",
       "      <td id=\"T_eaf2d_row9_col3\" class=\"data row9 col3\" >54730.6382</td>\n",
       "      <td id=\"T_eaf2d_row9_col4\" class=\"data row9 col4\" >0.3549</td>\n",
       "      <td id=\"T_eaf2d_row9_col5\" class=\"data row9 col5\" >0.6534</td>\n",
       "      <td id=\"T_eaf2d_row9_col6\" class=\"data row9 col6\" >0.8763</td>\n",
       "      <td id=\"T_eaf2d_row9_col7\" class=\"data row9 col7\" >0.0770</td>\n",
       "    </tr>\n",
       "    <tr>\n",
       "      <th id=\"T_eaf2d_level0_row10\" class=\"row_heading level0 row10\" >knn</th>\n",
       "      <td id=\"T_eaf2d_row10_col0\" class=\"data row10 col0\" >K Neighbors Regressor</td>\n",
       "      <td id=\"T_eaf2d_row10_col1\" class=\"data row10 col1\" >38146.2760</td>\n",
       "      <td id=\"T_eaf2d_row10_col2\" class=\"data row10 col2\" >3144084451.8854</td>\n",
       "      <td id=\"T_eaf2d_row10_col3\" class=\"data row10 col3\" >55116.3146</td>\n",
       "      <td id=\"T_eaf2d_row10_col4\" class=\"data row10 col4\" >0.3335</td>\n",
       "      <td id=\"T_eaf2d_row10_col5\" class=\"data row10 col5\" >0.6024</td>\n",
       "      <td id=\"T_eaf2d_row10_col6\" class=\"data row10 col6\" >0.6136</td>\n",
       "      <td id=\"T_eaf2d_row10_col7\" class=\"data row10 col7\" >0.1090</td>\n",
       "    </tr>\n",
       "    <tr>\n",
       "      <th id=\"T_eaf2d_level0_row11\" class=\"row_heading level0 row11\" >par</th>\n",
       "      <td id=\"T_eaf2d_row11_col0\" class=\"data row11 col0\" >Passive Aggressive Regressor</td>\n",
       "      <td id=\"T_eaf2d_row11_col1\" class=\"data row11 col1\" >42875.5496</td>\n",
       "      <td id=\"T_eaf2d_row11_col2\" class=\"data row11 col2\" >3868235250.8391</td>\n",
       "      <td id=\"T_eaf2d_row11_col3\" class=\"data row11 col3\" >61335.4659</td>\n",
       "      <td id=\"T_eaf2d_row11_col4\" class=\"data row11 col4\" >0.1848</td>\n",
       "      <td id=\"T_eaf2d_row11_col5\" class=\"data row11 col5\" >0.6863</td>\n",
       "      <td id=\"T_eaf2d_row11_col6\" class=\"data row11 col6\" >0.8337</td>\n",
       "      <td id=\"T_eaf2d_row11_col7\" class=\"data row11 col7\" >0.0900</td>\n",
       "    </tr>\n",
       "  </tbody>\n",
       "</table>\n"
      ],
      "text/plain": [
       "<pandas.io.formats.style.Styler at 0x23a55fa3220>"
      ]
     },
     "metadata": {},
     "output_type": "display_data"
    },
    {
     "data": {
      "application/vnd.jupyter.widget-view+json": {
       "model_id": "be5e736a06a942a5bb3da77294f7060e",
       "version_major": 2,
       "version_minor": 0
      },
      "text/plain": [
       "Processing:   0%|          | 0/81 [00:00<?, ?it/s]"
      ]
     },
     "metadata": {},
     "output_type": "display_data"
    }
   ],
   "source": [
    "best = compare_models(sort = 'RMSE')"
   ]
  },
  {
   "cell_type": "code",
   "execution_count": null,
   "id": "7d006b40",
   "metadata": {},
   "outputs": [],
   "source": [
    "print(best)"
   ]
  },
  {
   "cell_type": "code",
   "execution_count": null,
   "id": "71411580",
   "metadata": {},
   "outputs": [],
   "source": [
    "evaluate_model(best)"
   ]
  },
  {
   "cell_type": "code",
   "execution_count": null,
   "id": "ac4f1317",
   "metadata": {},
   "outputs": [],
   "source": [
    "predictions = predict_model(best,data = test)"
   ]
  },
  {
   "cell_type": "code",
   "execution_count": null,
   "id": "d6c97d3d",
   "metadata": {},
   "outputs": [],
   "source": [
    "predictions"
   ]
  },
  {
   "cell_type": "code",
   "execution_count": null,
   "id": "330b71f1",
   "metadata": {},
   "outputs": [],
   "source": [
    "solution1 = predictions.prediction_label"
   ]
  },
  {
   "cell_type": "code",
   "execution_count": null,
   "id": "3e977bfa",
   "metadata": {},
   "outputs": [],
   "source": [
    "solution1 = pd.DataFrame(predictions.prediction_label)\n",
    "solution1"
   ]
  },
  {
   "cell_type": "code",
   "execution_count": null,
   "id": "3e3b8faf",
   "metadata": {},
   "outputs": [],
   "source": [
    "solution1.reset_index(drop=True, inplace=True)"
   ]
  },
  {
   "cell_type": "code",
   "execution_count": null,
   "id": "202ce21f",
   "metadata": {},
   "outputs": [],
   "source": [
    "solution1"
   ]
  },
  {
   "cell_type": "code",
   "execution_count": null,
   "id": "f588dcd8",
   "metadata": {},
   "outputs": [],
   "source": [
    "solution1.rename(columns={\"index\": \"id\", 'prediction_label': \"salary_in_usd\"}, inplace= True)"
   ]
  },
  {
   "cell_type": "code",
   "execution_count": null,
   "id": "d6621a06",
   "metadata": {},
   "outputs": [],
   "source": [
    "solution1"
   ]
  },
  {
   "cell_type": "code",
   "execution_count": null,
   "id": "79c38888",
   "metadata": {},
   "outputs": [],
   "source": [
    "solution1.to_csv('sols/sol1.csv')"
   ]
  },
  {
   "cell_type": "code",
   "execution_count": null,
   "id": "9bb87b02",
   "metadata": {},
   "outputs": [],
   "source": []
  },
  {
   "cell_type": "code",
   "execution_count": null,
   "id": "9a6ed336",
   "metadata": {},
   "outputs": [],
   "source": []
  }
 ],
 "metadata": {
  "kernelspec": {
   "display_name": "Python 3 (ipykernel)",
   "language": "python",
   "name": "python3"
  },
  "language_info": {
   "codemirror_mode": {
    "name": "ipython",
    "version": 3
   },
   "file_extension": ".py",
   "mimetype": "text/x-python",
   "name": "python",
   "nbconvert_exporter": "python",
   "pygments_lexer": "ipython3",
   "version": "3.9.13"
  }
 },
 "nbformat": 4,
 "nbformat_minor": 5
}
